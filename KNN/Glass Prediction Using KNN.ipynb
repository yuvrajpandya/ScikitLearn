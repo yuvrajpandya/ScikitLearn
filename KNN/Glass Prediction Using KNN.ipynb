{
  "nbformat": 4,
  "nbformat_minor": 0,
  "metadata": {
    "colab": {
      "name": "Copy of kNN-1549175726217_edited_ml2_lavi.ipynb",
      "provenance": [],
      "collapsed_sections": [
        "dSJ5WOfcDWda",
        "Rx8UHqLnDWdh",
        "ARKOdQtCDWdq",
        "PZAHhhh-DWdx",
        "Nfc6a1giDWdz",
        "CMMKTPkPDWd1",
        "waFk5qV7DWd3",
        "gQiQ0xwIDWd3",
        "t0q8-Jl8DWeb",
        "1XdEp0N1DWec",
        "sP0bumpcDWel",
        "u0vjpeirDWel",
        "RLaKJH8vDWep",
        "qqGbGg9YDWes",
        "HRaHs5IuDWew",
        "o4eN4CixDWe2",
        "uoDY-1SWDWe2",
        "-iFg1WHGDWe6",
        "Lq6A1368DWe_",
        "KhbLsm5cDWfH",
        "Zy4RhtcdDWfK",
        "k3855yCkDWfO",
        "nbar2HSLDWfP",
        "ZgCjbi7iDWfT",
        "1IJ1qudEDWfX",
        "WxdDCxbaDWfZ",
        "X42j_WT-DWfd",
        "I8ssHVwYDWfg",
        "9Mjjcb3QDWfk",
        "vys-KjQuDWfo",
        "Q6QP_9BEDWfr",
        "1PrG2gQ8DWfw",
        "ADmT4vNdDWfz",
        "HSb9RUK2DWgA",
        "erTPJ0rkDWgC",
        "2aGdDx2CDWgF",
        "NNlOauRSDWgI",
        "4LxSi2RdDWgK",
        "Nid9iusCDWgN",
        "B4OSQ2uvDWgQ",
        "NsetptDLDWgR",
        "GnAgxEBWDWgT",
        "72tUsQFCDWgZ"
      ]
    },
    "language_info": {
      "codemirror_mode": {
        "name": "ipython",
        "version": 3
      },
      "file_extension": ".py",
      "mimetype": "text/x-python",
      "name": "python",
      "nbconvert_exporter": "python",
      "pygments_lexer": "ipython3",
      "version": "3.6.3"
    },
    "kernelspec": {
      "display_name": "Python 3",
      "language": "python",
      "name": "python3"
    },
    "widgets": {
      "application/vnd.jupyter.widget-state+json": {
        "e400393077594b41a9912ee10c74cd3b": {
          "model_module": "@jupyter-widgets/controls",
          "model_name": "HBoxModel",
          "state": {
            "_view_name": "HBoxView",
            "_dom_classes": [],
            "_model_name": "HBoxModel",
            "_view_module": "@jupyter-widgets/controls",
            "_model_module_version": "1.5.0",
            "_view_count": null,
            "_view_module_version": "1.5.0",
            "box_style": "",
            "layout": "IPY_MODEL_1c3b34646f8c42b49ed78927b71ce957",
            "_model_module": "@jupyter-widgets/controls",
            "children": [
              "IPY_MODEL_7ab4fb234db74d1f9e408a4775be094c",
              "IPY_MODEL_973583c6603948d4814a9cf60887fa5d"
            ]
          }
        },
        "1c3b34646f8c42b49ed78927b71ce957": {
          "model_module": "@jupyter-widgets/base",
          "model_name": "LayoutModel",
          "state": {
            "_view_name": "LayoutView",
            "grid_template_rows": null,
            "right": null,
            "justify_content": null,
            "_view_module": "@jupyter-widgets/base",
            "overflow": null,
            "_model_module_version": "1.2.0",
            "_view_count": null,
            "flex_flow": null,
            "width": null,
            "min_width": null,
            "border": null,
            "align_items": null,
            "bottom": null,
            "_model_module": "@jupyter-widgets/base",
            "top": null,
            "grid_column": null,
            "overflow_y": null,
            "overflow_x": null,
            "grid_auto_flow": null,
            "grid_area": null,
            "grid_template_columns": null,
            "flex": null,
            "_model_name": "LayoutModel",
            "justify_items": null,
            "grid_row": null,
            "max_height": null,
            "align_content": null,
            "visibility": null,
            "align_self": null,
            "height": null,
            "min_height": null,
            "padding": null,
            "grid_auto_rows": null,
            "grid_gap": null,
            "max_width": null,
            "order": null,
            "_view_module_version": "1.2.0",
            "grid_template_areas": null,
            "object_position": null,
            "object_fit": null,
            "grid_auto_columns": null,
            "margin": null,
            "display": null,
            "left": null
          }
        },
        "7ab4fb234db74d1f9e408a4775be094c": {
          "model_module": "@jupyter-widgets/controls",
          "model_name": "FloatProgressModel",
          "state": {
            "_view_name": "ProgressView",
            "style": "IPY_MODEL_bd4c12437b204427a117e6f27d97feda",
            "_dom_classes": [],
            "description": "variables: 100%",
            "_model_name": "FloatProgressModel",
            "bar_style": "success",
            "max": 10,
            "_view_module": "@jupyter-widgets/controls",
            "_model_module_version": "1.5.0",
            "value": 10,
            "_view_count": null,
            "_view_module_version": "1.5.0",
            "orientation": "horizontal",
            "min": 0,
            "description_tooltip": null,
            "_model_module": "@jupyter-widgets/controls",
            "layout": "IPY_MODEL_fe9bfc73afde4afea2e3d618cfaa22a6"
          }
        },
        "973583c6603948d4814a9cf60887fa5d": {
          "model_module": "@jupyter-widgets/controls",
          "model_name": "HTMLModel",
          "state": {
            "_view_name": "HTMLView",
            "style": "IPY_MODEL_11ef0bc0584843a8874dce2d8c68f140",
            "_dom_classes": [],
            "description": "",
            "_model_name": "HTMLModel",
            "placeholder": "​",
            "_view_module": "@jupyter-widgets/controls",
            "_model_module_version": "1.5.0",
            "value": " 10/10 [00:18&lt;00:00,  1.89s/it]",
            "_view_count": null,
            "_view_module_version": "1.5.0",
            "description_tooltip": null,
            "_model_module": "@jupyter-widgets/controls",
            "layout": "IPY_MODEL_9dea41a3d86f4cea8bb78d6b873fcc26"
          }
        },
        "bd4c12437b204427a117e6f27d97feda": {
          "model_module": "@jupyter-widgets/controls",
          "model_name": "ProgressStyleModel",
          "state": {
            "_view_name": "StyleView",
            "_model_name": "ProgressStyleModel",
            "description_width": "initial",
            "_view_module": "@jupyter-widgets/base",
            "_model_module_version": "1.5.0",
            "_view_count": null,
            "_view_module_version": "1.2.0",
            "bar_color": null,
            "_model_module": "@jupyter-widgets/controls"
          }
        },
        "fe9bfc73afde4afea2e3d618cfaa22a6": {
          "model_module": "@jupyter-widgets/base",
          "model_name": "LayoutModel",
          "state": {
            "_view_name": "LayoutView",
            "grid_template_rows": null,
            "right": null,
            "justify_content": null,
            "_view_module": "@jupyter-widgets/base",
            "overflow": null,
            "_model_module_version": "1.2.0",
            "_view_count": null,
            "flex_flow": null,
            "width": null,
            "min_width": null,
            "border": null,
            "align_items": null,
            "bottom": null,
            "_model_module": "@jupyter-widgets/base",
            "top": null,
            "grid_column": null,
            "overflow_y": null,
            "overflow_x": null,
            "grid_auto_flow": null,
            "grid_area": null,
            "grid_template_columns": null,
            "flex": null,
            "_model_name": "LayoutModel",
            "justify_items": null,
            "grid_row": null,
            "max_height": null,
            "align_content": null,
            "visibility": null,
            "align_self": null,
            "height": null,
            "min_height": null,
            "padding": null,
            "grid_auto_rows": null,
            "grid_gap": null,
            "max_width": null,
            "order": null,
            "_view_module_version": "1.2.0",
            "grid_template_areas": null,
            "object_position": null,
            "object_fit": null,
            "grid_auto_columns": null,
            "margin": null,
            "display": null,
            "left": null
          }
        },
        "11ef0bc0584843a8874dce2d8c68f140": {
          "model_module": "@jupyter-widgets/controls",
          "model_name": "DescriptionStyleModel",
          "state": {
            "_view_name": "StyleView",
            "_model_name": "DescriptionStyleModel",
            "description_width": "",
            "_view_module": "@jupyter-widgets/base",
            "_model_module_version": "1.5.0",
            "_view_count": null,
            "_view_module_version": "1.2.0",
            "_model_module": "@jupyter-widgets/controls"
          }
        },
        "9dea41a3d86f4cea8bb78d6b873fcc26": {
          "model_module": "@jupyter-widgets/base",
          "model_name": "LayoutModel",
          "state": {
            "_view_name": "LayoutView",
            "grid_template_rows": null,
            "right": null,
            "justify_content": null,
            "_view_module": "@jupyter-widgets/base",
            "overflow": null,
            "_model_module_version": "1.2.0",
            "_view_count": null,
            "flex_flow": null,
            "width": null,
            "min_width": null,
            "border": null,
            "align_items": null,
            "bottom": null,
            "_model_module": "@jupyter-widgets/base",
            "top": null,
            "grid_column": null,
            "overflow_y": null,
            "overflow_x": null,
            "grid_auto_flow": null,
            "grid_area": null,
            "grid_template_columns": null,
            "flex": null,
            "_model_name": "LayoutModel",
            "justify_items": null,
            "grid_row": null,
            "max_height": null,
            "align_content": null,
            "visibility": null,
            "align_self": null,
            "height": null,
            "min_height": null,
            "padding": null,
            "grid_auto_rows": null,
            "grid_gap": null,
            "max_width": null,
            "order": null,
            "_view_module_version": "1.2.0",
            "grid_template_areas": null,
            "object_position": null,
            "object_fit": null,
            "grid_auto_columns": null,
            "margin": null,
            "display": null,
            "left": null
          }
        },
        "6272c7b24f114f6eb407a0fe4e30d570": {
          "model_module": "@jupyter-widgets/controls",
          "model_name": "HBoxModel",
          "state": {
            "_view_name": "HBoxView",
            "_dom_classes": [],
            "_model_name": "HBoxModel",
            "_view_module": "@jupyter-widgets/controls",
            "_model_module_version": "1.5.0",
            "_view_count": null,
            "_view_module_version": "1.5.0",
            "box_style": "",
            "layout": "IPY_MODEL_b8e0ecbc05024734acc75e1c041cc23f",
            "_model_module": "@jupyter-widgets/controls",
            "children": [
              "IPY_MODEL_c742ac53ad1248e68a4fa3de11bedc87",
              "IPY_MODEL_800d677c8f9241a4a6a5a2f1ffea1957"
            ]
          }
        },
        "b8e0ecbc05024734acc75e1c041cc23f": {
          "model_module": "@jupyter-widgets/base",
          "model_name": "LayoutModel",
          "state": {
            "_view_name": "LayoutView",
            "grid_template_rows": null,
            "right": null,
            "justify_content": null,
            "_view_module": "@jupyter-widgets/base",
            "overflow": null,
            "_model_module_version": "1.2.0",
            "_view_count": null,
            "flex_flow": null,
            "width": null,
            "min_width": null,
            "border": null,
            "align_items": null,
            "bottom": null,
            "_model_module": "@jupyter-widgets/base",
            "top": null,
            "grid_column": null,
            "overflow_y": null,
            "overflow_x": null,
            "grid_auto_flow": null,
            "grid_area": null,
            "grid_template_columns": null,
            "flex": null,
            "_model_name": "LayoutModel",
            "justify_items": null,
            "grid_row": null,
            "max_height": null,
            "align_content": null,
            "visibility": null,
            "align_self": null,
            "height": null,
            "min_height": null,
            "padding": null,
            "grid_auto_rows": null,
            "grid_gap": null,
            "max_width": null,
            "order": null,
            "_view_module_version": "1.2.0",
            "grid_template_areas": null,
            "object_position": null,
            "object_fit": null,
            "grid_auto_columns": null,
            "margin": null,
            "display": null,
            "left": null
          }
        },
        "c742ac53ad1248e68a4fa3de11bedc87": {
          "model_module": "@jupyter-widgets/controls",
          "model_name": "FloatProgressModel",
          "state": {
            "_view_name": "ProgressView",
            "style": "IPY_MODEL_8edb42088bf7494d9fbaa7e3d8e90440",
            "_dom_classes": [],
            "description": "correlations [recoded]: 100%",
            "_model_name": "FloatProgressModel",
            "bar_style": "success",
            "max": 6,
            "_view_module": "@jupyter-widgets/controls",
            "_model_module_version": "1.5.0",
            "value": 6,
            "_view_count": null,
            "_view_module_version": "1.5.0",
            "orientation": "horizontal",
            "min": 0,
            "description_tooltip": null,
            "_model_module": "@jupyter-widgets/controls",
            "layout": "IPY_MODEL_6dd91740393e488c8e90f3fb349e358e"
          }
        },
        "800d677c8f9241a4a6a5a2f1ffea1957": {
          "model_module": "@jupyter-widgets/controls",
          "model_name": "HTMLModel",
          "state": {
            "_view_name": "HTMLView",
            "style": "IPY_MODEL_a3543a4068eb4fe3a6ddf65a37aa6bd1",
            "_dom_classes": [],
            "description": "",
            "_model_name": "HTMLModel",
            "placeholder": "​",
            "_view_module": "@jupyter-widgets/controls",
            "_model_module_version": "1.5.0",
            "value": " 6/6 [00:04&lt;00:00,  1.34it/s]",
            "_view_count": null,
            "_view_module_version": "1.5.0",
            "description_tooltip": null,
            "_model_module": "@jupyter-widgets/controls",
            "layout": "IPY_MODEL_576731b5a33443c0ba130c34deebb7ce"
          }
        },
        "8edb42088bf7494d9fbaa7e3d8e90440": {
          "model_module": "@jupyter-widgets/controls",
          "model_name": "ProgressStyleModel",
          "state": {
            "_view_name": "StyleView",
            "_model_name": "ProgressStyleModel",
            "description_width": "initial",
            "_view_module": "@jupyter-widgets/base",
            "_model_module_version": "1.5.0",
            "_view_count": null,
            "_view_module_version": "1.2.0",
            "bar_color": null,
            "_model_module": "@jupyter-widgets/controls"
          }
        },
        "6dd91740393e488c8e90f3fb349e358e": {
          "model_module": "@jupyter-widgets/base",
          "model_name": "LayoutModel",
          "state": {
            "_view_name": "LayoutView",
            "grid_template_rows": null,
            "right": null,
            "justify_content": null,
            "_view_module": "@jupyter-widgets/base",
            "overflow": null,
            "_model_module_version": "1.2.0",
            "_view_count": null,
            "flex_flow": null,
            "width": null,
            "min_width": null,
            "border": null,
            "align_items": null,
            "bottom": null,
            "_model_module": "@jupyter-widgets/base",
            "top": null,
            "grid_column": null,
            "overflow_y": null,
            "overflow_x": null,
            "grid_auto_flow": null,
            "grid_area": null,
            "grid_template_columns": null,
            "flex": null,
            "_model_name": "LayoutModel",
            "justify_items": null,
            "grid_row": null,
            "max_height": null,
            "align_content": null,
            "visibility": null,
            "align_self": null,
            "height": null,
            "min_height": null,
            "padding": null,
            "grid_auto_rows": null,
            "grid_gap": null,
            "max_width": null,
            "order": null,
            "_view_module_version": "1.2.0",
            "grid_template_areas": null,
            "object_position": null,
            "object_fit": null,
            "grid_auto_columns": null,
            "margin": null,
            "display": null,
            "left": null
          }
        },
        "a3543a4068eb4fe3a6ddf65a37aa6bd1": {
          "model_module": "@jupyter-widgets/controls",
          "model_name": "DescriptionStyleModel",
          "state": {
            "_view_name": "StyleView",
            "_model_name": "DescriptionStyleModel",
            "description_width": "",
            "_view_module": "@jupyter-widgets/base",
            "_model_module_version": "1.5.0",
            "_view_count": null,
            "_view_module_version": "1.2.0",
            "_model_module": "@jupyter-widgets/controls"
          }
        },
        "576731b5a33443c0ba130c34deebb7ce": {
          "model_module": "@jupyter-widgets/base",
          "model_name": "LayoutModel",
          "state": {
            "_view_name": "LayoutView",
            "grid_template_rows": null,
            "right": null,
            "justify_content": null,
            "_view_module": "@jupyter-widgets/base",
            "overflow": null,
            "_model_module_version": "1.2.0",
            "_view_count": null,
            "flex_flow": null,
            "width": null,
            "min_width": null,
            "border": null,
            "align_items": null,
            "bottom": null,
            "_model_module": "@jupyter-widgets/base",
            "top": null,
            "grid_column": null,
            "overflow_y": null,
            "overflow_x": null,
            "grid_auto_flow": null,
            "grid_area": null,
            "grid_template_columns": null,
            "flex": null,
            "_model_name": "LayoutModel",
            "justify_items": null,
            "grid_row": null,
            "max_height": null,
            "align_content": null,
            "visibility": null,
            "align_self": null,
            "height": null,
            "min_height": null,
            "padding": null,
            "grid_auto_rows": null,
            "grid_gap": null,
            "max_width": null,
            "order": null,
            "_view_module_version": "1.2.0",
            "grid_template_areas": null,
            "object_position": null,
            "object_fit": null,
            "grid_auto_columns": null,
            "margin": null,
            "display": null,
            "left": null
          }
        },
        "b5914cce165d472ba59ce1b09fb54d1a": {
          "model_module": "@jupyter-widgets/controls",
          "model_name": "HBoxModel",
          "state": {
            "_view_name": "HBoxView",
            "_dom_classes": [],
            "_model_name": "HBoxModel",
            "_view_module": "@jupyter-widgets/controls",
            "_model_module_version": "1.5.0",
            "_view_count": null,
            "_view_module_version": "1.5.0",
            "box_style": "",
            "layout": "IPY_MODEL_e08b6106875b478babba5bbd603e2e78",
            "_model_module": "@jupyter-widgets/controls",
            "children": [
              "IPY_MODEL_b7aa560d3d9a424cba33f86faa2ae688",
              "IPY_MODEL_0c7e9215152443d2af7cc16cd17f4e6a"
            ]
          }
        },
        "e08b6106875b478babba5bbd603e2e78": {
          "model_module": "@jupyter-widgets/base",
          "model_name": "LayoutModel",
          "state": {
            "_view_name": "LayoutView",
            "grid_template_rows": null,
            "right": null,
            "justify_content": null,
            "_view_module": "@jupyter-widgets/base",
            "overflow": null,
            "_model_module_version": "1.2.0",
            "_view_count": null,
            "flex_flow": null,
            "width": null,
            "min_width": null,
            "border": null,
            "align_items": null,
            "bottom": null,
            "_model_module": "@jupyter-widgets/base",
            "top": null,
            "grid_column": null,
            "overflow_y": null,
            "overflow_x": null,
            "grid_auto_flow": null,
            "grid_area": null,
            "grid_template_columns": null,
            "flex": null,
            "_model_name": "LayoutModel",
            "justify_items": null,
            "grid_row": null,
            "max_height": null,
            "align_content": null,
            "visibility": null,
            "align_self": null,
            "height": null,
            "min_height": null,
            "padding": null,
            "grid_auto_rows": null,
            "grid_gap": null,
            "max_width": null,
            "order": null,
            "_view_module_version": "1.2.0",
            "grid_template_areas": null,
            "object_position": null,
            "object_fit": null,
            "grid_auto_columns": null,
            "margin": null,
            "display": null,
            "left": null
          }
        },
        "b7aa560d3d9a424cba33f86faa2ae688": {
          "model_module": "@jupyter-widgets/controls",
          "model_name": "FloatProgressModel",
          "state": {
            "_view_name": "ProgressView",
            "style": "IPY_MODEL_61539f5649af4da5b4a16d6b69403445",
            "_dom_classes": [],
            "description": "interactions [continuous]: 100%",
            "_model_name": "FloatProgressModel",
            "bar_style": "success",
            "max": 100,
            "_view_module": "@jupyter-widgets/controls",
            "_model_module_version": "1.5.0",
            "value": 100,
            "_view_count": null,
            "_view_module_version": "1.5.0",
            "orientation": "horizontal",
            "min": 0,
            "description_tooltip": null,
            "_model_module": "@jupyter-widgets/controls",
            "layout": "IPY_MODEL_1f47a8639625471587a71bb2c709635e"
          }
        },
        "0c7e9215152443d2af7cc16cd17f4e6a": {
          "model_module": "@jupyter-widgets/controls",
          "model_name": "HTMLModel",
          "state": {
            "_view_name": "HTMLView",
            "style": "IPY_MODEL_f03c722682f14f87b173aefdf39315a4",
            "_dom_classes": [],
            "description": "",
            "_model_name": "HTMLModel",
            "placeholder": "​",
            "_view_module": "@jupyter-widgets/controls",
            "_model_module_version": "1.5.0",
            "value": " 100/100 [00:16&lt;00:00,  6.03it/s]",
            "_view_count": null,
            "_view_module_version": "1.5.0",
            "description_tooltip": null,
            "_model_module": "@jupyter-widgets/controls",
            "layout": "IPY_MODEL_9749c6e4eb214bbb8663cff42f387f27"
          }
        },
        "61539f5649af4da5b4a16d6b69403445": {
          "model_module": "@jupyter-widgets/controls",
          "model_name": "ProgressStyleModel",
          "state": {
            "_view_name": "StyleView",
            "_model_name": "ProgressStyleModel",
            "description_width": "initial",
            "_view_module": "@jupyter-widgets/base",
            "_model_module_version": "1.5.0",
            "_view_count": null,
            "_view_module_version": "1.2.0",
            "bar_color": null,
            "_model_module": "@jupyter-widgets/controls"
          }
        },
        "1f47a8639625471587a71bb2c709635e": {
          "model_module": "@jupyter-widgets/base",
          "model_name": "LayoutModel",
          "state": {
            "_view_name": "LayoutView",
            "grid_template_rows": null,
            "right": null,
            "justify_content": null,
            "_view_module": "@jupyter-widgets/base",
            "overflow": null,
            "_model_module_version": "1.2.0",
            "_view_count": null,
            "flex_flow": null,
            "width": null,
            "min_width": null,
            "border": null,
            "align_items": null,
            "bottom": null,
            "_model_module": "@jupyter-widgets/base",
            "top": null,
            "grid_column": null,
            "overflow_y": null,
            "overflow_x": null,
            "grid_auto_flow": null,
            "grid_area": null,
            "grid_template_columns": null,
            "flex": null,
            "_model_name": "LayoutModel",
            "justify_items": null,
            "grid_row": null,
            "max_height": null,
            "align_content": null,
            "visibility": null,
            "align_self": null,
            "height": null,
            "min_height": null,
            "padding": null,
            "grid_auto_rows": null,
            "grid_gap": null,
            "max_width": null,
            "order": null,
            "_view_module_version": "1.2.0",
            "grid_template_areas": null,
            "object_position": null,
            "object_fit": null,
            "grid_auto_columns": null,
            "margin": null,
            "display": null,
            "left": null
          }
        },
        "f03c722682f14f87b173aefdf39315a4": {
          "model_module": "@jupyter-widgets/controls",
          "model_name": "DescriptionStyleModel",
          "state": {
            "_view_name": "StyleView",
            "_model_name": "DescriptionStyleModel",
            "description_width": "",
            "_view_module": "@jupyter-widgets/base",
            "_model_module_version": "1.5.0",
            "_view_count": null,
            "_view_module_version": "1.2.0",
            "_model_module": "@jupyter-widgets/controls"
          }
        },
        "9749c6e4eb214bbb8663cff42f387f27": {
          "model_module": "@jupyter-widgets/base",
          "model_name": "LayoutModel",
          "state": {
            "_view_name": "LayoutView",
            "grid_template_rows": null,
            "right": null,
            "justify_content": null,
            "_view_module": "@jupyter-widgets/base",
            "overflow": null,
            "_model_module_version": "1.2.0",
            "_view_count": null,
            "flex_flow": null,
            "width": null,
            "min_width": null,
            "border": null,
            "align_items": null,
            "bottom": null,
            "_model_module": "@jupyter-widgets/base",
            "top": null,
            "grid_column": null,
            "overflow_y": null,
            "overflow_x": null,
            "grid_auto_flow": null,
            "grid_area": null,
            "grid_template_columns": null,
            "flex": null,
            "_model_name": "LayoutModel",
            "justify_items": null,
            "grid_row": null,
            "max_height": null,
            "align_content": null,
            "visibility": null,
            "align_self": null,
            "height": null,
            "min_height": null,
            "padding": null,
            "grid_auto_rows": null,
            "grid_gap": null,
            "max_width": null,
            "order": null,
            "_view_module_version": "1.2.0",
            "grid_template_areas": null,
            "object_position": null,
            "object_fit": null,
            "grid_auto_columns": null,
            "margin": null,
            "display": null,
            "left": null
          }
        },
        "f5f25cd904ca497aaff208af670a936b": {
          "model_module": "@jupyter-widgets/controls",
          "model_name": "HBoxModel",
          "state": {
            "_view_name": "HBoxView",
            "_dom_classes": [],
            "_model_name": "HBoxModel",
            "_view_module": "@jupyter-widgets/controls",
            "_model_module_version": "1.5.0",
            "_view_count": null,
            "_view_module_version": "1.5.0",
            "box_style": "",
            "layout": "IPY_MODEL_38187ca1de34465da4be5c7b41863769",
            "_model_module": "@jupyter-widgets/controls",
            "children": [
              "IPY_MODEL_f7d8165970c24961b9c6d487789728a8",
              "IPY_MODEL_3ac15eab176a44d1b2832ff524d09502"
            ]
          }
        },
        "38187ca1de34465da4be5c7b41863769": {
          "model_module": "@jupyter-widgets/base",
          "model_name": "LayoutModel",
          "state": {
            "_view_name": "LayoutView",
            "grid_template_rows": null,
            "right": null,
            "justify_content": null,
            "_view_module": "@jupyter-widgets/base",
            "overflow": null,
            "_model_module_version": "1.2.0",
            "_view_count": null,
            "flex_flow": null,
            "width": null,
            "min_width": null,
            "border": null,
            "align_items": null,
            "bottom": null,
            "_model_module": "@jupyter-widgets/base",
            "top": null,
            "grid_column": null,
            "overflow_y": null,
            "overflow_x": null,
            "grid_auto_flow": null,
            "grid_area": null,
            "grid_template_columns": null,
            "flex": null,
            "_model_name": "LayoutModel",
            "justify_items": null,
            "grid_row": null,
            "max_height": null,
            "align_content": null,
            "visibility": null,
            "align_self": null,
            "height": null,
            "min_height": null,
            "padding": null,
            "grid_auto_rows": null,
            "grid_gap": null,
            "max_width": null,
            "order": null,
            "_view_module_version": "1.2.0",
            "grid_template_areas": null,
            "object_position": null,
            "object_fit": null,
            "grid_auto_columns": null,
            "margin": null,
            "display": null,
            "left": null
          }
        },
        "f7d8165970c24961b9c6d487789728a8": {
          "model_module": "@jupyter-widgets/controls",
          "model_name": "FloatProgressModel",
          "state": {
            "_view_name": "ProgressView",
            "style": "IPY_MODEL_293408b33b894e14b402d9519fea0219",
            "_dom_classes": [],
            "description": "table: 100%",
            "_model_name": "FloatProgressModel",
            "bar_style": "success",
            "max": 1,
            "_view_module": "@jupyter-widgets/controls",
            "_model_module_version": "1.5.0",
            "value": 1,
            "_view_count": null,
            "_view_module_version": "1.5.0",
            "orientation": "horizontal",
            "min": 0,
            "description_tooltip": null,
            "_model_module": "@jupyter-widgets/controls",
            "layout": "IPY_MODEL_d8d26046d6ec4b7894d5e1b06a642071"
          }
        },
        "3ac15eab176a44d1b2832ff524d09502": {
          "model_module": "@jupyter-widgets/controls",
          "model_name": "HTMLModel",
          "state": {
            "_view_name": "HTMLView",
            "style": "IPY_MODEL_e8794f304f9c4f8ba1703a211437d043",
            "_dom_classes": [],
            "description": "",
            "_model_name": "HTMLModel",
            "placeholder": "​",
            "_view_module": "@jupyter-widgets/controls",
            "_model_module_version": "1.5.0",
            "value": " 1/1 [00:03&lt;00:00,  3.07s/it]",
            "_view_count": null,
            "_view_module_version": "1.5.0",
            "description_tooltip": null,
            "_model_module": "@jupyter-widgets/controls",
            "layout": "IPY_MODEL_f4d410e3a3f140a49aad275c13f6dcc7"
          }
        },
        "293408b33b894e14b402d9519fea0219": {
          "model_module": "@jupyter-widgets/controls",
          "model_name": "ProgressStyleModel",
          "state": {
            "_view_name": "StyleView",
            "_model_name": "ProgressStyleModel",
            "description_width": "initial",
            "_view_module": "@jupyter-widgets/base",
            "_model_module_version": "1.5.0",
            "_view_count": null,
            "_view_module_version": "1.2.0",
            "bar_color": null,
            "_model_module": "@jupyter-widgets/controls"
          }
        },
        "d8d26046d6ec4b7894d5e1b06a642071": {
          "model_module": "@jupyter-widgets/base",
          "model_name": "LayoutModel",
          "state": {
            "_view_name": "LayoutView",
            "grid_template_rows": null,
            "right": null,
            "justify_content": null,
            "_view_module": "@jupyter-widgets/base",
            "overflow": null,
            "_model_module_version": "1.2.0",
            "_view_count": null,
            "flex_flow": null,
            "width": null,
            "min_width": null,
            "border": null,
            "align_items": null,
            "bottom": null,
            "_model_module": "@jupyter-widgets/base",
            "top": null,
            "grid_column": null,
            "overflow_y": null,
            "overflow_x": null,
            "grid_auto_flow": null,
            "grid_area": null,
            "grid_template_columns": null,
            "flex": null,
            "_model_name": "LayoutModel",
            "justify_items": null,
            "grid_row": null,
            "max_height": null,
            "align_content": null,
            "visibility": null,
            "align_self": null,
            "height": null,
            "min_height": null,
            "padding": null,
            "grid_auto_rows": null,
            "grid_gap": null,
            "max_width": null,
            "order": null,
            "_view_module_version": "1.2.0",
            "grid_template_areas": null,
            "object_position": null,
            "object_fit": null,
            "grid_auto_columns": null,
            "margin": null,
            "display": null,
            "left": null
          }
        },
        "e8794f304f9c4f8ba1703a211437d043": {
          "model_module": "@jupyter-widgets/controls",
          "model_name": "DescriptionStyleModel",
          "state": {
            "_view_name": "StyleView",
            "_model_name": "DescriptionStyleModel",
            "description_width": "",
            "_view_module": "@jupyter-widgets/base",
            "_model_module_version": "1.5.0",
            "_view_count": null,
            "_view_module_version": "1.2.0",
            "_model_module": "@jupyter-widgets/controls"
          }
        },
        "f4d410e3a3f140a49aad275c13f6dcc7": {
          "model_module": "@jupyter-widgets/base",
          "model_name": "LayoutModel",
          "state": {
            "_view_name": "LayoutView",
            "grid_template_rows": null,
            "right": null,
            "justify_content": null,
            "_view_module": "@jupyter-widgets/base",
            "overflow": null,
            "_model_module_version": "1.2.0",
            "_view_count": null,
            "flex_flow": null,
            "width": null,
            "min_width": null,
            "border": null,
            "align_items": null,
            "bottom": null,
            "_model_module": "@jupyter-widgets/base",
            "top": null,
            "grid_column": null,
            "overflow_y": null,
            "overflow_x": null,
            "grid_auto_flow": null,
            "grid_area": null,
            "grid_template_columns": null,
            "flex": null,
            "_model_name": "LayoutModel",
            "justify_items": null,
            "grid_row": null,
            "max_height": null,
            "align_content": null,
            "visibility": null,
            "align_self": null,
            "height": null,
            "min_height": null,
            "padding": null,
            "grid_auto_rows": null,
            "grid_gap": null,
            "max_width": null,
            "order": null,
            "_view_module_version": "1.2.0",
            "grid_template_areas": null,
            "object_position": null,
            "object_fit": null,
            "grid_auto_columns": null,
            "margin": null,
            "display": null,
            "left": null
          }
        },
        "2cfd1941424941309dd7f27a3c4ad84c": {
          "model_module": "@jupyter-widgets/controls",
          "model_name": "HBoxModel",
          "state": {
            "_view_name": "HBoxView",
            "_dom_classes": [],
            "_model_name": "HBoxModel",
            "_view_module": "@jupyter-widgets/controls",
            "_model_module_version": "1.5.0",
            "_view_count": null,
            "_view_module_version": "1.5.0",
            "box_style": "",
            "layout": "IPY_MODEL_033ad371ebd547e69d6182b4040e3677",
            "_model_module": "@jupyter-widgets/controls",
            "children": [
              "IPY_MODEL_f48f93ca433c407e8db48390c08fb78c",
              "IPY_MODEL_f0dac253505940e3accf8d59d9b9afb2"
            ]
          }
        },
        "033ad371ebd547e69d6182b4040e3677": {
          "model_module": "@jupyter-widgets/base",
          "model_name": "LayoutModel",
          "state": {
            "_view_name": "LayoutView",
            "grid_template_rows": null,
            "right": null,
            "justify_content": null,
            "_view_module": "@jupyter-widgets/base",
            "overflow": null,
            "_model_module_version": "1.2.0",
            "_view_count": null,
            "flex_flow": null,
            "width": null,
            "min_width": null,
            "border": null,
            "align_items": null,
            "bottom": null,
            "_model_module": "@jupyter-widgets/base",
            "top": null,
            "grid_column": null,
            "overflow_y": null,
            "overflow_x": null,
            "grid_auto_flow": null,
            "grid_area": null,
            "grid_template_columns": null,
            "flex": null,
            "_model_name": "LayoutModel",
            "justify_items": null,
            "grid_row": null,
            "max_height": null,
            "align_content": null,
            "visibility": null,
            "align_self": null,
            "height": null,
            "min_height": null,
            "padding": null,
            "grid_auto_rows": null,
            "grid_gap": null,
            "max_width": null,
            "order": null,
            "_view_module_version": "1.2.0",
            "grid_template_areas": null,
            "object_position": null,
            "object_fit": null,
            "grid_auto_columns": null,
            "margin": null,
            "display": null,
            "left": null
          }
        },
        "f48f93ca433c407e8db48390c08fb78c": {
          "model_module": "@jupyter-widgets/controls",
          "model_name": "FloatProgressModel",
          "state": {
            "_view_name": "ProgressView",
            "style": "IPY_MODEL_c7e4f9233abf4b07b8ea0f00c1195872",
            "_dom_classes": [],
            "description": "missing [matrix]: 100%",
            "_model_name": "FloatProgressModel",
            "bar_style": "success",
            "max": 2,
            "_view_module": "@jupyter-widgets/controls",
            "_model_module_version": "1.5.0",
            "value": 2,
            "_view_count": null,
            "_view_module_version": "1.5.0",
            "orientation": "horizontal",
            "min": 0,
            "description_tooltip": null,
            "_model_module": "@jupyter-widgets/controls",
            "layout": "IPY_MODEL_e8e6e5c82735490ebadd158d2b334669"
          }
        },
        "f0dac253505940e3accf8d59d9b9afb2": {
          "model_module": "@jupyter-widgets/controls",
          "model_name": "HTMLModel",
          "state": {
            "_view_name": "HTMLView",
            "style": "IPY_MODEL_4ba1fe3b1ade46f8ad50f9448b694002",
            "_dom_classes": [],
            "description": "",
            "_model_name": "HTMLModel",
            "placeholder": "​",
            "_view_module": "@jupyter-widgets/controls",
            "_model_module_version": "1.5.0",
            "value": " 2/2 [00:03&lt;00:00,  1.51s/it]",
            "_view_count": null,
            "_view_module_version": "1.5.0",
            "description_tooltip": null,
            "_model_module": "@jupyter-widgets/controls",
            "layout": "IPY_MODEL_1e1cfcbfbf62456c9d7d3f1f0a6f2092"
          }
        },
        "c7e4f9233abf4b07b8ea0f00c1195872": {
          "model_module": "@jupyter-widgets/controls",
          "model_name": "ProgressStyleModel",
          "state": {
            "_view_name": "StyleView",
            "_model_name": "ProgressStyleModel",
            "description_width": "initial",
            "_view_module": "@jupyter-widgets/base",
            "_model_module_version": "1.5.0",
            "_view_count": null,
            "_view_module_version": "1.2.0",
            "bar_color": null,
            "_model_module": "@jupyter-widgets/controls"
          }
        },
        "e8e6e5c82735490ebadd158d2b334669": {
          "model_module": "@jupyter-widgets/base",
          "model_name": "LayoutModel",
          "state": {
            "_view_name": "LayoutView",
            "grid_template_rows": null,
            "right": null,
            "justify_content": null,
            "_view_module": "@jupyter-widgets/base",
            "overflow": null,
            "_model_module_version": "1.2.0",
            "_view_count": null,
            "flex_flow": null,
            "width": null,
            "min_width": null,
            "border": null,
            "align_items": null,
            "bottom": null,
            "_model_module": "@jupyter-widgets/base",
            "top": null,
            "grid_column": null,
            "overflow_y": null,
            "overflow_x": null,
            "grid_auto_flow": null,
            "grid_area": null,
            "grid_template_columns": null,
            "flex": null,
            "_model_name": "LayoutModel",
            "justify_items": null,
            "grid_row": null,
            "max_height": null,
            "align_content": null,
            "visibility": null,
            "align_self": null,
            "height": null,
            "min_height": null,
            "padding": null,
            "grid_auto_rows": null,
            "grid_gap": null,
            "max_width": null,
            "order": null,
            "_view_module_version": "1.2.0",
            "grid_template_areas": null,
            "object_position": null,
            "object_fit": null,
            "grid_auto_columns": null,
            "margin": null,
            "display": null,
            "left": null
          }
        },
        "4ba1fe3b1ade46f8ad50f9448b694002": {
          "model_module": "@jupyter-widgets/controls",
          "model_name": "DescriptionStyleModel",
          "state": {
            "_view_name": "StyleView",
            "_model_name": "DescriptionStyleModel",
            "description_width": "",
            "_view_module": "@jupyter-widgets/base",
            "_model_module_version": "1.5.0",
            "_view_count": null,
            "_view_module_version": "1.2.0",
            "_model_module": "@jupyter-widgets/controls"
          }
        },
        "1e1cfcbfbf62456c9d7d3f1f0a6f2092": {
          "model_module": "@jupyter-widgets/base",
          "model_name": "LayoutModel",
          "state": {
            "_view_name": "LayoutView",
            "grid_template_rows": null,
            "right": null,
            "justify_content": null,
            "_view_module": "@jupyter-widgets/base",
            "overflow": null,
            "_model_module_version": "1.2.0",
            "_view_count": null,
            "flex_flow": null,
            "width": null,
            "min_width": null,
            "border": null,
            "align_items": null,
            "bottom": null,
            "_model_module": "@jupyter-widgets/base",
            "top": null,
            "grid_column": null,
            "overflow_y": null,
            "overflow_x": null,
            "grid_auto_flow": null,
            "grid_area": null,
            "grid_template_columns": null,
            "flex": null,
            "_model_name": "LayoutModel",
            "justify_items": null,
            "grid_row": null,
            "max_height": null,
            "align_content": null,
            "visibility": null,
            "align_self": null,
            "height": null,
            "min_height": null,
            "padding": null,
            "grid_auto_rows": null,
            "grid_gap": null,
            "max_width": null,
            "order": null,
            "_view_module_version": "1.2.0",
            "grid_template_areas": null,
            "object_position": null,
            "object_fit": null,
            "grid_auto_columns": null,
            "margin": null,
            "display": null,
            "left": null
          }
        },
        "25c1a2da648749eba423c9c345717161": {
          "model_module": "@jupyter-widgets/controls",
          "model_name": "HBoxModel",
          "state": {
            "_view_name": "HBoxView",
            "_dom_classes": [],
            "_model_name": "HBoxModel",
            "_view_module": "@jupyter-widgets/controls",
            "_model_module_version": "1.5.0",
            "_view_count": null,
            "_view_module_version": "1.5.0",
            "box_style": "",
            "layout": "IPY_MODEL_270d7bfe318e470bb1ccd4324d9d9834",
            "_model_module": "@jupyter-widgets/controls",
            "children": [
              "IPY_MODEL_a8e3fac4a2a64426aa08d88de0015b93",
              "IPY_MODEL_e3875343f6ab436190f3bbf68455aa04"
            ]
          }
        },
        "270d7bfe318e470bb1ccd4324d9d9834": {
          "model_module": "@jupyter-widgets/base",
          "model_name": "LayoutModel",
          "state": {
            "_view_name": "LayoutView",
            "grid_template_rows": null,
            "right": null,
            "justify_content": null,
            "_view_module": "@jupyter-widgets/base",
            "overflow": null,
            "_model_module_version": "1.2.0",
            "_view_count": null,
            "flex_flow": null,
            "width": null,
            "min_width": null,
            "border": null,
            "align_items": null,
            "bottom": null,
            "_model_module": "@jupyter-widgets/base",
            "top": null,
            "grid_column": null,
            "overflow_y": null,
            "overflow_x": null,
            "grid_auto_flow": null,
            "grid_area": null,
            "grid_template_columns": null,
            "flex": null,
            "_model_name": "LayoutModel",
            "justify_items": null,
            "grid_row": null,
            "max_height": null,
            "align_content": null,
            "visibility": null,
            "align_self": null,
            "height": null,
            "min_height": null,
            "padding": null,
            "grid_auto_rows": null,
            "grid_gap": null,
            "max_width": null,
            "order": null,
            "_view_module_version": "1.2.0",
            "grid_template_areas": null,
            "object_position": null,
            "object_fit": null,
            "grid_auto_columns": null,
            "margin": null,
            "display": null,
            "left": null
          }
        },
        "a8e3fac4a2a64426aa08d88de0015b93": {
          "model_module": "@jupyter-widgets/controls",
          "model_name": "FloatProgressModel",
          "state": {
            "_view_name": "ProgressView",
            "style": "IPY_MODEL_bde8f0b501614c01a1cbf0db661d9f51",
            "_dom_classes": [],
            "description": "warnings [correlations]: 100%",
            "_model_name": "FloatProgressModel",
            "bar_style": "success",
            "max": 3,
            "_view_module": "@jupyter-widgets/controls",
            "_model_module_version": "1.5.0",
            "value": 3,
            "_view_count": null,
            "_view_module_version": "1.5.0",
            "orientation": "horizontal",
            "min": 0,
            "description_tooltip": null,
            "_model_module": "@jupyter-widgets/controls",
            "layout": "IPY_MODEL_ef75f75fc7994f5b837ba8d94bd64bfe"
          }
        },
        "e3875343f6ab436190f3bbf68455aa04": {
          "model_module": "@jupyter-widgets/controls",
          "model_name": "HTMLModel",
          "state": {
            "_view_name": "HTMLView",
            "style": "IPY_MODEL_a2bd124ad68e4035bc2f21698c0a2a5e",
            "_dom_classes": [],
            "description": "",
            "_model_name": "HTMLModel",
            "placeholder": "​",
            "_view_module": "@jupyter-widgets/controls",
            "_model_module_version": "1.5.0",
            "value": " 3/3 [00:00&lt;00:00, 28.14it/s]",
            "_view_count": null,
            "_view_module_version": "1.5.0",
            "description_tooltip": null,
            "_model_module": "@jupyter-widgets/controls",
            "layout": "IPY_MODEL_aa53b857de6d44e19853b4f12f06cf3b"
          }
        },
        "bde8f0b501614c01a1cbf0db661d9f51": {
          "model_module": "@jupyter-widgets/controls",
          "model_name": "ProgressStyleModel",
          "state": {
            "_view_name": "StyleView",
            "_model_name": "ProgressStyleModel",
            "description_width": "initial",
            "_view_module": "@jupyter-widgets/base",
            "_model_module_version": "1.5.0",
            "_view_count": null,
            "_view_module_version": "1.2.0",
            "bar_color": null,
            "_model_module": "@jupyter-widgets/controls"
          }
        },
        "ef75f75fc7994f5b837ba8d94bd64bfe": {
          "model_module": "@jupyter-widgets/base",
          "model_name": "LayoutModel",
          "state": {
            "_view_name": "LayoutView",
            "grid_template_rows": null,
            "right": null,
            "justify_content": null,
            "_view_module": "@jupyter-widgets/base",
            "overflow": null,
            "_model_module_version": "1.2.0",
            "_view_count": null,
            "flex_flow": null,
            "width": null,
            "min_width": null,
            "border": null,
            "align_items": null,
            "bottom": null,
            "_model_module": "@jupyter-widgets/base",
            "top": null,
            "grid_column": null,
            "overflow_y": null,
            "overflow_x": null,
            "grid_auto_flow": null,
            "grid_area": null,
            "grid_template_columns": null,
            "flex": null,
            "_model_name": "LayoutModel",
            "justify_items": null,
            "grid_row": null,
            "max_height": null,
            "align_content": null,
            "visibility": null,
            "align_self": null,
            "height": null,
            "min_height": null,
            "padding": null,
            "grid_auto_rows": null,
            "grid_gap": null,
            "max_width": null,
            "order": null,
            "_view_module_version": "1.2.0",
            "grid_template_areas": null,
            "object_position": null,
            "object_fit": null,
            "grid_auto_columns": null,
            "margin": null,
            "display": null,
            "left": null
          }
        },
        "a2bd124ad68e4035bc2f21698c0a2a5e": {
          "model_module": "@jupyter-widgets/controls",
          "model_name": "DescriptionStyleModel",
          "state": {
            "_view_name": "StyleView",
            "_model_name": "DescriptionStyleModel",
            "description_width": "",
            "_view_module": "@jupyter-widgets/base",
            "_model_module_version": "1.5.0",
            "_view_count": null,
            "_view_module_version": "1.2.0",
            "_model_module": "@jupyter-widgets/controls"
          }
        },
        "aa53b857de6d44e19853b4f12f06cf3b": {
          "model_module": "@jupyter-widgets/base",
          "model_name": "LayoutModel",
          "state": {
            "_view_name": "LayoutView",
            "grid_template_rows": null,
            "right": null,
            "justify_content": null,
            "_view_module": "@jupyter-widgets/base",
            "overflow": null,
            "_model_module_version": "1.2.0",
            "_view_count": null,
            "flex_flow": null,
            "width": null,
            "min_width": null,
            "border": null,
            "align_items": null,
            "bottom": null,
            "_model_module": "@jupyter-widgets/base",
            "top": null,
            "grid_column": null,
            "overflow_y": null,
            "overflow_x": null,
            "grid_auto_flow": null,
            "grid_area": null,
            "grid_template_columns": null,
            "flex": null,
            "_model_name": "LayoutModel",
            "justify_items": null,
            "grid_row": null,
            "max_height": null,
            "align_content": null,
            "visibility": null,
            "align_self": null,
            "height": null,
            "min_height": null,
            "padding": null,
            "grid_auto_rows": null,
            "grid_gap": null,
            "max_width": null,
            "order": null,
            "_view_module_version": "1.2.0",
            "grid_template_areas": null,
            "object_position": null,
            "object_fit": null,
            "grid_auto_columns": null,
            "margin": null,
            "display": null,
            "left": null
          }
        },
        "feafb5167e1f40639660a16d17641d6a": {
          "model_module": "@jupyter-widgets/controls",
          "model_name": "HBoxModel",
          "state": {
            "_view_name": "HBoxView",
            "_dom_classes": [],
            "_model_name": "HBoxModel",
            "_view_module": "@jupyter-widgets/controls",
            "_model_module_version": "1.5.0",
            "_view_count": null,
            "_view_module_version": "1.5.0",
            "box_style": "",
            "layout": "IPY_MODEL_c8c57fa401584e5dadb9e9545bbb6b63",
            "_model_module": "@jupyter-widgets/controls",
            "children": [
              "IPY_MODEL_4d0ec306f0ce4ee89c57902e792a5f60",
              "IPY_MODEL_5211ca589d1441cfb097451d559a7027"
            ]
          }
        },
        "c8c57fa401584e5dadb9e9545bbb6b63": {
          "model_module": "@jupyter-widgets/base",
          "model_name": "LayoutModel",
          "state": {
            "_view_name": "LayoutView",
            "grid_template_rows": null,
            "right": null,
            "justify_content": null,
            "_view_module": "@jupyter-widgets/base",
            "overflow": null,
            "_model_module_version": "1.2.0",
            "_view_count": null,
            "flex_flow": null,
            "width": null,
            "min_width": null,
            "border": null,
            "align_items": null,
            "bottom": null,
            "_model_module": "@jupyter-widgets/base",
            "top": null,
            "grid_column": null,
            "overflow_y": null,
            "overflow_x": null,
            "grid_auto_flow": null,
            "grid_area": null,
            "grid_template_columns": null,
            "flex": null,
            "_model_name": "LayoutModel",
            "justify_items": null,
            "grid_row": null,
            "max_height": null,
            "align_content": null,
            "visibility": null,
            "align_self": null,
            "height": null,
            "min_height": null,
            "padding": null,
            "grid_auto_rows": null,
            "grid_gap": null,
            "max_width": null,
            "order": null,
            "_view_module_version": "1.2.0",
            "grid_template_areas": null,
            "object_position": null,
            "object_fit": null,
            "grid_auto_columns": null,
            "margin": null,
            "display": null,
            "left": null
          }
        },
        "4d0ec306f0ce4ee89c57902e792a5f60": {
          "model_module": "@jupyter-widgets/controls",
          "model_name": "FloatProgressModel",
          "state": {
            "_view_name": "ProgressView",
            "style": "IPY_MODEL_bc80a176bf48488aa2f4c6f405141ff0",
            "_dom_classes": [],
            "description": "package: 100%",
            "_model_name": "FloatProgressModel",
            "bar_style": "success",
            "max": 1,
            "_view_module": "@jupyter-widgets/controls",
            "_model_module_version": "1.5.0",
            "value": 1,
            "_view_count": null,
            "_view_module_version": "1.5.0",
            "orientation": "horizontal",
            "min": 0,
            "description_tooltip": null,
            "_model_module": "@jupyter-widgets/controls",
            "layout": "IPY_MODEL_7d545649f5b44df5b254b1652b89daac"
          }
        },
        "5211ca589d1441cfb097451d559a7027": {
          "model_module": "@jupyter-widgets/controls",
          "model_name": "HTMLModel",
          "state": {
            "_view_name": "HTMLView",
            "style": "IPY_MODEL_adbf49f95e264167be1df87f3d2aa3eb",
            "_dom_classes": [],
            "description": "",
            "_model_name": "HTMLModel",
            "placeholder": "​",
            "_view_module": "@jupyter-widgets/controls",
            "_model_module_version": "1.5.0",
            "value": " 1/1 [00:00&lt;00:00,  3.70it/s]",
            "_view_count": null,
            "_view_module_version": "1.5.0",
            "description_tooltip": null,
            "_model_module": "@jupyter-widgets/controls",
            "layout": "IPY_MODEL_e982569163624c359afff6292b621ad7"
          }
        },
        "bc80a176bf48488aa2f4c6f405141ff0": {
          "model_module": "@jupyter-widgets/controls",
          "model_name": "ProgressStyleModel",
          "state": {
            "_view_name": "StyleView",
            "_model_name": "ProgressStyleModel",
            "description_width": "initial",
            "_view_module": "@jupyter-widgets/base",
            "_model_module_version": "1.5.0",
            "_view_count": null,
            "_view_module_version": "1.2.0",
            "bar_color": null,
            "_model_module": "@jupyter-widgets/controls"
          }
        },
        "7d545649f5b44df5b254b1652b89daac": {
          "model_module": "@jupyter-widgets/base",
          "model_name": "LayoutModel",
          "state": {
            "_view_name": "LayoutView",
            "grid_template_rows": null,
            "right": null,
            "justify_content": null,
            "_view_module": "@jupyter-widgets/base",
            "overflow": null,
            "_model_module_version": "1.2.0",
            "_view_count": null,
            "flex_flow": null,
            "width": null,
            "min_width": null,
            "border": null,
            "align_items": null,
            "bottom": null,
            "_model_module": "@jupyter-widgets/base",
            "top": null,
            "grid_column": null,
            "overflow_y": null,
            "overflow_x": null,
            "grid_auto_flow": null,
            "grid_area": null,
            "grid_template_columns": null,
            "flex": null,
            "_model_name": "LayoutModel",
            "justify_items": null,
            "grid_row": null,
            "max_height": null,
            "align_content": null,
            "visibility": null,
            "align_self": null,
            "height": null,
            "min_height": null,
            "padding": null,
            "grid_auto_rows": null,
            "grid_gap": null,
            "max_width": null,
            "order": null,
            "_view_module_version": "1.2.0",
            "grid_template_areas": null,
            "object_position": null,
            "object_fit": null,
            "grid_auto_columns": null,
            "margin": null,
            "display": null,
            "left": null
          }
        },
        "adbf49f95e264167be1df87f3d2aa3eb": {
          "model_module": "@jupyter-widgets/controls",
          "model_name": "DescriptionStyleModel",
          "state": {
            "_view_name": "StyleView",
            "_model_name": "DescriptionStyleModel",
            "description_width": "",
            "_view_module": "@jupyter-widgets/base",
            "_model_module_version": "1.5.0",
            "_view_count": null,
            "_view_module_version": "1.2.0",
            "_model_module": "@jupyter-widgets/controls"
          }
        },
        "e982569163624c359afff6292b621ad7": {
          "model_module": "@jupyter-widgets/base",
          "model_name": "LayoutModel",
          "state": {
            "_view_name": "LayoutView",
            "grid_template_rows": null,
            "right": null,
            "justify_content": null,
            "_view_module": "@jupyter-widgets/base",
            "overflow": null,
            "_model_module_version": "1.2.0",
            "_view_count": null,
            "flex_flow": null,
            "width": null,
            "min_width": null,
            "border": null,
            "align_items": null,
            "bottom": null,
            "_model_module": "@jupyter-widgets/base",
            "top": null,
            "grid_column": null,
            "overflow_y": null,
            "overflow_x": null,
            "grid_auto_flow": null,
            "grid_area": null,
            "grid_template_columns": null,
            "flex": null,
            "_model_name": "LayoutModel",
            "justify_items": null,
            "grid_row": null,
            "max_height": null,
            "align_content": null,
            "visibility": null,
            "align_self": null,
            "height": null,
            "min_height": null,
            "padding": null,
            "grid_auto_rows": null,
            "grid_gap": null,
            "max_width": null,
            "order": null,
            "_view_module_version": "1.2.0",
            "grid_template_areas": null,
            "object_position": null,
            "object_fit": null,
            "grid_auto_columns": null,
            "margin": null,
            "display": null,
            "left": null
          }
        },
        "4b52a15e4be643fd9879559448fa5a19": {
          "model_module": "@jupyter-widgets/controls",
          "model_name": "HBoxModel",
          "state": {
            "_view_name": "HBoxView",
            "_dom_classes": [],
            "_model_name": "HBoxModel",
            "_view_module": "@jupyter-widgets/controls",
            "_model_module_version": "1.5.0",
            "_view_count": null,
            "_view_module_version": "1.5.0",
            "box_style": "",
            "layout": "IPY_MODEL_22b22cdffe014d44a679ac42566d3339",
            "_model_module": "@jupyter-widgets/controls",
            "children": [
              "IPY_MODEL_0802ba10926147608934ef194bcb746c",
              "IPY_MODEL_1298146c12fe40c78e43f943ebfff9df"
            ]
          }
        },
        "22b22cdffe014d44a679ac42566d3339": {
          "model_module": "@jupyter-widgets/base",
          "model_name": "LayoutModel",
          "state": {
            "_view_name": "LayoutView",
            "grid_template_rows": null,
            "right": null,
            "justify_content": null,
            "_view_module": "@jupyter-widgets/base",
            "overflow": null,
            "_model_module_version": "1.2.0",
            "_view_count": null,
            "flex_flow": null,
            "width": null,
            "min_width": null,
            "border": null,
            "align_items": null,
            "bottom": null,
            "_model_module": "@jupyter-widgets/base",
            "top": null,
            "grid_column": null,
            "overflow_y": null,
            "overflow_x": null,
            "grid_auto_flow": null,
            "grid_area": null,
            "grid_template_columns": null,
            "flex": null,
            "_model_name": "LayoutModel",
            "justify_items": null,
            "grid_row": null,
            "max_height": null,
            "align_content": null,
            "visibility": null,
            "align_self": null,
            "height": null,
            "min_height": null,
            "padding": null,
            "grid_auto_rows": null,
            "grid_gap": null,
            "max_width": null,
            "order": null,
            "_view_module_version": "1.2.0",
            "grid_template_areas": null,
            "object_position": null,
            "object_fit": null,
            "grid_auto_columns": null,
            "margin": null,
            "display": null,
            "left": null
          }
        },
        "0802ba10926147608934ef194bcb746c": {
          "model_module": "@jupyter-widgets/controls",
          "model_name": "FloatProgressModel",
          "state": {
            "_view_name": "ProgressView",
            "style": "IPY_MODEL_9d6c85e7addb454ba78cb99b708672d1",
            "_dom_classes": [],
            "description": "build report structure: 100%",
            "_model_name": "FloatProgressModel",
            "bar_style": "success",
            "max": 1,
            "_view_module": "@jupyter-widgets/controls",
            "_model_module_version": "1.5.0",
            "value": 1,
            "_view_count": null,
            "_view_module_version": "1.5.0",
            "orientation": "horizontal",
            "min": 0,
            "description_tooltip": null,
            "_model_module": "@jupyter-widgets/controls",
            "layout": "IPY_MODEL_1268ad123bd64cc0847da98a515baa37"
          }
        },
        "1298146c12fe40c78e43f943ebfff9df": {
          "model_module": "@jupyter-widgets/controls",
          "model_name": "HTMLModel",
          "state": {
            "_view_name": "HTMLView",
            "style": "IPY_MODEL_daf5caff62ce470594144bffe28ad1bc",
            "_dom_classes": [],
            "description": "",
            "_model_name": "HTMLModel",
            "placeholder": "​",
            "_view_module": "@jupyter-widgets/controls",
            "_model_module_version": "1.5.0",
            "value": " 1/1 [00:06&lt;00:00,  6.68s/it]",
            "_view_count": null,
            "_view_module_version": "1.5.0",
            "description_tooltip": null,
            "_model_module": "@jupyter-widgets/controls",
            "layout": "IPY_MODEL_8d2c3c02e5ec417b9b9c816d8516fc5b"
          }
        },
        "9d6c85e7addb454ba78cb99b708672d1": {
          "model_module": "@jupyter-widgets/controls",
          "model_name": "ProgressStyleModel",
          "state": {
            "_view_name": "StyleView",
            "_model_name": "ProgressStyleModel",
            "description_width": "initial",
            "_view_module": "@jupyter-widgets/base",
            "_model_module_version": "1.5.0",
            "_view_count": null,
            "_view_module_version": "1.2.0",
            "bar_color": null,
            "_model_module": "@jupyter-widgets/controls"
          }
        },
        "1268ad123bd64cc0847da98a515baa37": {
          "model_module": "@jupyter-widgets/base",
          "model_name": "LayoutModel",
          "state": {
            "_view_name": "LayoutView",
            "grid_template_rows": null,
            "right": null,
            "justify_content": null,
            "_view_module": "@jupyter-widgets/base",
            "overflow": null,
            "_model_module_version": "1.2.0",
            "_view_count": null,
            "flex_flow": null,
            "width": null,
            "min_width": null,
            "border": null,
            "align_items": null,
            "bottom": null,
            "_model_module": "@jupyter-widgets/base",
            "top": null,
            "grid_column": null,
            "overflow_y": null,
            "overflow_x": null,
            "grid_auto_flow": null,
            "grid_area": null,
            "grid_template_columns": null,
            "flex": null,
            "_model_name": "LayoutModel",
            "justify_items": null,
            "grid_row": null,
            "max_height": null,
            "align_content": null,
            "visibility": null,
            "align_self": null,
            "height": null,
            "min_height": null,
            "padding": null,
            "grid_auto_rows": null,
            "grid_gap": null,
            "max_width": null,
            "order": null,
            "_view_module_version": "1.2.0",
            "grid_template_areas": null,
            "object_position": null,
            "object_fit": null,
            "grid_auto_columns": null,
            "margin": null,
            "display": null,
            "left": null
          }
        },
        "daf5caff62ce470594144bffe28ad1bc": {
          "model_module": "@jupyter-widgets/controls",
          "model_name": "DescriptionStyleModel",
          "state": {
            "_view_name": "StyleView",
            "_model_name": "DescriptionStyleModel",
            "description_width": "",
            "_view_module": "@jupyter-widgets/base",
            "_model_module_version": "1.5.0",
            "_view_count": null,
            "_view_module_version": "1.2.0",
            "_model_module": "@jupyter-widgets/controls"
          }
        },
        "8d2c3c02e5ec417b9b9c816d8516fc5b": {
          "model_module": "@jupyter-widgets/base",
          "model_name": "LayoutModel",
          "state": {
            "_view_name": "LayoutView",
            "grid_template_rows": null,
            "right": null,
            "justify_content": null,
            "_view_module": "@jupyter-widgets/base",
            "overflow": null,
            "_model_module_version": "1.2.0",
            "_view_count": null,
            "flex_flow": null,
            "width": null,
            "min_width": null,
            "border": null,
            "align_items": null,
            "bottom": null,
            "_model_module": "@jupyter-widgets/base",
            "top": null,
            "grid_column": null,
            "overflow_y": null,
            "overflow_x": null,
            "grid_auto_flow": null,
            "grid_area": null,
            "grid_template_columns": null,
            "flex": null,
            "_model_name": "LayoutModel",
            "justify_items": null,
            "grid_row": null,
            "max_height": null,
            "align_content": null,
            "visibility": null,
            "align_self": null,
            "height": null,
            "min_height": null,
            "padding": null,
            "grid_auto_rows": null,
            "grid_gap": null,
            "max_width": null,
            "order": null,
            "_view_module_version": "1.2.0",
            "grid_template_areas": null,
            "object_position": null,
            "object_fit": null,
            "grid_auto_columns": null,
            "margin": null,
            "display": null,
            "left": null
          }
        }
      }
    }
  },
  "cells": [
    {
      "cell_type": "markdown",
      "metadata": {
        "id": "6UD4U_d5DWdN",
        "colab_type": "text"
      },
      "source": [
        "<img src=\"https://github.com/insaid2018/Term-1/blob/master/Images/INSAID_Full%20Logo.png?raw=true\" width=\"240\" height=\"360\" />\n",
        "\n",
        "# K - Nearest Neighbour"
      ]
    },
    {
      "cell_type": "markdown",
      "metadata": {
        "id": "7O2A4DTnDWdO",
        "colab_type": "text"
      },
      "source": [
        "## Table of Content\n",
        "\n",
        "1. [Introduction to K - Nearest Neighbour](#section1)<br>\n",
        "    - 1.1 [When do we use KNN algorithm?](#section101)<br>\n",
        "        - 1.1.1 [KNN for Regression](#section102)<br>\n",
        "        - 1.1.2 [KNN for Classification](#section103)<br>\n",
        "    - 1.2 [How does the KNN algorithm work?](#section104)<br>\n",
        "    - 1.3 [Maths behind KNN slgorithm](#section105)<br>\n",
        "        - 1.3.1 [Explanation using Real life scenario](#section106)<br>\n",
        "    - 1.4 [How do we choose the factor K?](#section107)<br>\n",
        "    - 1.5 [Curse of Dimensionality](#section108)<br>\n",
        "    - 1.6 [KNN Disciplines](#section109)<br>\n",
        "    - 1.7 [Breaking it dowm - Pseudo Code of KNN](#section110)<br>\n",
        "2. [Use Case - Glass Classification](#section2)<br>\n",
        "3. [Dataset (source, loading and description)](#section3)<br>\n",
        "4. [Data Visualization](#section4)<br>\n",
        "5. [Data Standardization](#section5)<br>\n",
        "6. [Train test split](#section6)<br>\n",
        "7. [Modelling and prediction](#section7)<br>\n",
        "8. [Model Comparison](#section8)\n",
        "9. [Implementing KNN Regressor on iris dataset](#section9)"
      ]
    },
    {
      "cell_type": "markdown",
      "metadata": {
        "id": "9No0TOGGDWdP",
        "colab_type": "text"
      },
      "source": [
        "<a id=section1></a>"
      ]
    },
    {
      "cell_type": "markdown",
      "metadata": {
        "id": "Y0dO7iTWDWdQ",
        "colab_type": "text"
      },
      "source": [
        "## 1. Introduction to K - Nearest neighbour"
      ]
    },
    {
      "cell_type": "markdown",
      "metadata": {
        "id": "t7WCez2uDWdR",
        "colab_type": "text"
      },
      "source": [
        "K-Nearest Neighbours is one of the most __basic yet essential classification algorithms__ in Machine Learning. It belongs to the __supervised learning__ domain and finds intense application in __pattern recognition__, __data mining__ and __intrusion detection__.\n",
        "\n",
        "It is widely disposable in real-life scenarios since it is non-parametric, meaning, it __does not make__ any __underlying assumptions__ about the distribution of data.\n",
        "\n",
        "- __Supervised learning__, in the context machine learning, is a type of system in which both __input__ and __desired output__ data are provided. Input and output data are __labelled for classification__ to provide a learning basis for future data processing.\n",
        "<img src=\"https://raw.githubusercontent.com/insaid2018/Term-3/master/Images/download.png\"/>"
      ]
    },
    {
      "cell_type": "markdown",
      "metadata": {
        "id": "PQ1hKILLDWdS",
        "colab_type": "text"
      },
      "source": [
        "<a id=section101></a>"
      ]
    },
    {
      "cell_type": "markdown",
      "metadata": {
        "id": "wK_nF9OkDWdS",
        "colab_type": "text"
      },
      "source": [
        "## 1.1 When do we use KNN algorithm?"
      ]
    },
    {
      "cell_type": "markdown",
      "metadata": {
        "id": "KrWTLHdjDWdT",
        "colab_type": "text"
      },
      "source": [
        "KNN can be used for both __classification and regression__ predictive problems. However, it is more widely used in classification problems in the industry. To evaluate any technique we generally look at __3 important aspects__:\n",
        "\n",
        "1. Ease to interpret output\n",
        "\n",
        "2. Calculation time\n",
        "\n",
        "3. Predictive Power\n",
        "\n",
        "Let us take a few examples to  place KNN on the scale of 3 :<img src=\"https://raw.githubusercontent.com/insaid2018/Term-3/master/Images/download%20(1).png\" />\n",
        "\n",
        "\n",
        "Model comparison KNN algorithm fairs across all parameters of considerations. It is commonly used for its __ease of interpretation__ and __low calculation time__. It is applicable for smaller datasets."
      ]
    },
    {
      "cell_type": "markdown",
      "metadata": {
        "id": "EpulT1VZDWdU",
        "colab_type": "text"
      },
      "source": [
        "<a id=section102></a>\n",
        "### 1.1.1 KNN for Regression\n",
        "When KNN is used for regression problems the _prediction is based on the __mean or the median__ of the K-most similar instances_.<img src=\"https://raw.githubusercontent.com/insaid2018/Term-3/master/Images/download%20(2).png\" />\n"
      ]
    },
    {
      "cell_type": "markdown",
      "metadata": {
        "id": "2JlcmHafDWdV",
        "colab_type": "text"
      },
      "source": [
        "<a id=section103></a>\n",
        "### 1.1.2 KNN for Classification\n",
        "When KNN is used for classification, the output can be calculated as the __class with the highest frequency__ from the __K-most similar instances__. Each instance in essence __votes for their class and the class with the most votes is taken as the prediction__.\n",
        "\n",
        "Class probabilities can be calculated as the normalized frequency of samples that belong to each class in the set of K most similar instances for a new data instance. For example, in a binary classification problem (class is 0 or 1):\n",
        "\n",
        "p(class=0) = count(class=0) / (count(class=0)+count(class=1))\n",
        "\n",
        "If you are using K and you have an even number of classes (e.g. 2) it is a good idea to choose a K value with an odd number to avoid a tie. And the inverse, use an even number for K when you have an odd number of classes.\n",
        "<img src=\"https://raw.githubusercontent.com/insaid2018/Term-3/master/Images/download%20(3).png\" />"
      ]
    },
    {
      "cell_type": "markdown",
      "metadata": {
        "id": "n6ldnk3IDWdV",
        "colab_type": "text"
      },
      "source": [
        "<a id=section104></a>"
      ]
    },
    {
      "cell_type": "markdown",
      "metadata": {
        "id": "-LYcg25wDWdW",
        "colab_type": "text"
      },
      "source": [
        "## 1.2 How does the KNN algorithm work?\n",
        "#### Also refer to the _excel sheet_."
      ]
    },
    {
      "cell_type": "markdown",
      "metadata": {
        "id": "xCJTDPZIDWdX",
        "colab_type": "text"
      },
      "source": [
        "Let’s take a simple case to understand this algorithm. Following is a __spread of red circles (RC) and green squares (GS)__ :<img src=\"https://raw.githubusercontent.com/insaid2018/Term-3/master/Images/download%20(4).png\" />\n",
        "\n",
        "We intend to find out the __class of the blue star (BS)__ . BS can either be RC or GS and nothing else. The __“K”__ in KNN algorithm is the nearest neighbors we wish to take vote from. __Let’s say K = 3__. Hence, _we will now make a circle with BS as center just as big as to __enclose only three datapoints__ on the plane_. Refer to following diagram for more details:\n",
        "<img src=\"https://raw.githubusercontent.com/insaid2018/Term-3/master/Images/download%20(5).png\" />\n",
        "\n",
        "The _three closest points to BS_ is __all RC__. Hence, with __good confidence level__ we can say that the _BS should belong to the class RC_. Here, the __choice became very obvious__ as _all three votes from the closest neighbor went to RC_. The choice of the parameter K is very crucial in this algorithm.    "
      ]
    },
    {
      "cell_type": "markdown",
      "metadata": {
        "id": "ny50n2i9DWdY",
        "colab_type": "text"
      },
      "source": [
        "<a id=section105></a>"
      ]
    },
    {
      "cell_type": "markdown",
      "metadata": {
        "id": "H9jnbiu_DWdZ",
        "colab_type": "text"
      },
      "source": [
        "## 1.3 Maths behind KNN algorithm"
      ]
    },
    {
      "cell_type": "markdown",
      "metadata": {
        "id": "GwDekEJ-DWdZ",
        "colab_type": "text"
      },
      "source": [
        "<img src=\"https://raw.githubusercontent.com/insaid2018/Term-3/master/Images/download%20(6).png\" />\n",
        "\n",
        "- __Euclidian__ - The distance can be achieved as a __straight line__ between 2 points.\n",
        "- __Chebyshev__ - In this, __all adjacent 8 cells__ can be reached by __one unit__.\n",
        "- __Manhattan__ - The distance between two points is the __sum of the (absolute) differences of their coordinates__. E.g. it only costs __1 unit for a straight move__, but __2 if one wants to take a crossed move__."
      ]
    },
    {
      "cell_type": "markdown",
      "metadata": {
        "id": "dSJ5WOfcDWda",
        "colab_type": "text"
      },
      "source": [
        "## We will see how distance is calculated between rows."
      ]
    },
    {
      "cell_type": "markdown",
      "metadata": {
        "id": "oJKz5T6QDWdb",
        "colab_type": "text"
      },
      "source": [
        "<img src=\"https://raw.githubusercontent.com/insaid2018/Term-3/master/Images/1.PNG\" />"
      ]
    },
    {
      "cell_type": "markdown",
      "metadata": {
        "id": "Iz6agGrtDWdc",
        "colab_type": "text"
      },
      "source": [
        "."
      ]
    },
    {
      "cell_type": "markdown",
      "metadata": {
        "id": "l-uacukaDWdd",
        "colab_type": "text"
      },
      "source": [
        "."
      ]
    },
    {
      "cell_type": "markdown",
      "metadata": {
        "id": "uLQuEaWXDWde",
        "colab_type": "text"
      },
      "source": [
        "."
      ]
    },
    {
      "cell_type": "markdown",
      "metadata": {
        "id": "iMAHVwfCDWdf",
        "colab_type": "text"
      },
      "source": [
        "."
      ]
    },
    {
      "cell_type": "markdown",
      "metadata": {
        "id": "oU-JHkf_DWdf",
        "colab_type": "text"
      },
      "source": [
        "."
      ]
    },
    {
      "cell_type": "markdown",
      "metadata": {
        "id": "U0DhswdxDWdg",
        "colab_type": "text"
      },
      "source": [
        "."
      ]
    },
    {
      "cell_type": "markdown",
      "metadata": {
        "id": "Rx8UHqLnDWdh",
        "colab_type": "text"
      },
      "source": [
        "### Bringing all the variables to a common scale."
      ]
    },
    {
      "cell_type": "markdown",
      "metadata": {
        "id": "1MQjOY0wDWdi",
        "colab_type": "text"
      },
      "source": [
        "<img src=\"https://raw.githubusercontent.com/insaid2018/Term-3/master/Images/2.PNG\" />"
      ]
    },
    {
      "cell_type": "markdown",
      "metadata": {
        "id": "HLK3GlG0DWdj",
        "colab_type": "text"
      },
      "source": [
        "."
      ]
    },
    {
      "cell_type": "markdown",
      "metadata": {
        "id": "BWrKpRtBDWdk",
        "colab_type": "text"
      },
      "source": [
        "."
      ]
    },
    {
      "cell_type": "markdown",
      "metadata": {
        "id": "lQClmivbDWdk",
        "colab_type": "text"
      },
      "source": [
        "."
      ]
    },
    {
      "cell_type": "markdown",
      "metadata": {
        "id": "Ko3SgS60DWdm",
        "colab_type": "text"
      },
      "source": [
        "."
      ]
    },
    {
      "cell_type": "markdown",
      "metadata": {
        "id": "nGNRSN5HDWdo",
        "colab_type": "text"
      },
      "source": [
        "."
      ]
    },
    {
      "cell_type": "markdown",
      "metadata": {
        "id": "w9758L1CDWdp",
        "colab_type": "text"
      },
      "source": [
        "."
      ]
    },
    {
      "cell_type": "markdown",
      "metadata": {
        "id": "ARKOdQtCDWdq",
        "colab_type": "text"
      },
      "source": [
        "### Calculating the distance using Eculidian Distance Formula"
      ]
    },
    {
      "cell_type": "markdown",
      "metadata": {
        "id": "M7vzovKHDWdr",
        "colab_type": "text"
      },
      "source": [
        "<img src=\"https://raw.githubusercontent.com/insaid2018/Term-3/master/Images/4.jpg\" />"
      ]
    },
    {
      "cell_type": "markdown",
      "metadata": {
        "id": "0qmrjckxDWds",
        "colab_type": "text"
      },
      "source": [
        "<img src=\"https://raw.githubusercontent.com/insaid2018/Term-3/master/Images/5.PNG\" />"
      ]
    },
    {
      "cell_type": "markdown",
      "metadata": {
        "id": "KE2x4shzDWdt",
        "colab_type": "text"
      },
      "source": [
        "."
      ]
    },
    {
      "cell_type": "markdown",
      "metadata": {
        "id": "7FwzPURnDWdu",
        "colab_type": "text"
      },
      "source": [
        "."
      ]
    },
    {
      "cell_type": "markdown",
      "metadata": {
        "id": "1_YP00mlDWdu",
        "colab_type": "text"
      },
      "source": [
        "."
      ]
    },
    {
      "cell_type": "markdown",
      "metadata": {
        "id": "3YEgYZVZDWdv",
        "colab_type": "text"
      },
      "source": [
        "."
      ]
    },
    {
      "cell_type": "markdown",
      "metadata": {
        "id": "lRnFakzXDWdw",
        "colab_type": "text"
      },
      "source": [
        "."
      ]
    },
    {
      "cell_type": "markdown",
      "metadata": {
        "id": "r5tCNoDXDWdx",
        "colab_type": "text"
      },
      "source": [
        "<img src=\"https://raw.githubusercontent.com/insaid2018/Term-3/master/Images/6.PNG\" />"
      ]
    },
    {
      "cell_type": "markdown",
      "metadata": {
        "id": "PZAHhhh-DWdx",
        "colab_type": "text"
      },
      "source": [
        "<a id=section106></a>\n",
        "### 1.3.1 Explanation using real life scenario\n",
        "\n",
        "In chess, the distance between squares on the chessboard for \n",
        "- __Rooks__ is measured in __Manhattan distance__\n",
        "- __Kings and queens__ use __Chebyshev distance__\n",
        "- __Bishops__ use the __Manhattan distance__ (between squares of the same color) on the chessboard __rotated 45 degrees__, i.e., with its diagonals as coordinate axes. \n",
        "- On an empty board,\n",
        "- To reach from one square to another, __only kings require the number of moves equal to the distance__\n",
        "- Rooks, queens and bishops require one or two moves (assuming that the move is possible at all in the bishop’s case).<img src=\"https://raw.githubusercontent.com/insaid2018/Term-3/master/Images/download%20(7).png\" />"
      ]
    },
    {
      "cell_type": "markdown",
      "metadata": {
        "id": "yuHnkX1cDWdy",
        "colab_type": "text"
      },
      "source": [
        "<a id=section107></a>"
      ]
    },
    {
      "cell_type": "markdown",
      "metadata": {
        "id": "Nfc6a1giDWdz",
        "colab_type": "text"
      },
      "source": [
        "## 1.4 How do we choose the factor K?"
      ]
    },
    {
      "cell_type": "markdown",
      "metadata": {
        "id": "jeIqGPq1DWdz",
        "colab_type": "text"
      },
      "source": [
        "__KNN__ classifies a data point based on __how its neighbors are classified__.\n",
        "<img src=\"https://raw.githubusercontent.com/insaid2018/Term-3/master/Images/download%20(8).png\" />\n",
        "The class of _unknown data point was different at __k=3__ but __changed at k=7__, so which k should we choose?_\n",
        "\n",
        "KNN Algorithm is based on __feature similarity__: Choosing the right value of k is a process called __parameter tuning__, and is important for __better accuracy__.\n",
        "\n",
        "Although, the __best way__ to choose the __value of K__ are:"
      ]
    },
    {
      "cell_type": "markdown",
      "metadata": {
        "id": "RZ_psN-VDWd0",
        "colab_type": "text"
      },
      "source": [
        "<img src=\"https://raw.githubusercontent.com/insaid2018/Term-3/master/Images/download%20(9).png\" />"
      ]
    },
    {
      "cell_type": "markdown",
      "metadata": {
        "id": "9eEZBgSYDWd1",
        "colab_type": "text"
      },
      "source": [
        "<a id=section108></a>"
      ]
    },
    {
      "cell_type": "markdown",
      "metadata": {
        "id": "CMMKTPkPDWd1",
        "colab_type": "text"
      },
      "source": [
        "## 1.5 Curse of Dimensionality\n",
        "KNN works well with a small number of input variables (p), but __struggles__ when the _number of inputs is very large_.\n",
        "\n",
        "Each _input variable can be considered a dimension of a p-dimensional input space_. For example, if you had two input variables x1 and x2, the input space would be 2-dimensional.\n",
        "\n",
        "As the _number of dimensions increases the volume of the input space increases at an __exponential rate__._\n",
        "\n",
        "In high dimensions, points that may be similar may have very large distances. \n",
        "- All points will be far away from each other and our intuition for distances in simple 2 and 3-dimensional spaces breaks down. \n",
        "- This might feel unintuitive at first, but this general problem is called the __“Curse of Dimensionality“__.\n",
        "<img src=\"https://raw.githubusercontent.com/insaid2018/Term-3/master/Images/download%20(10).png\" />"
      ]
    },
    {
      "cell_type": "markdown",
      "metadata": {
        "id": "xgcvDWQ_DWd2",
        "colab_type": "text"
      },
      "source": [
        "<a id=section109></a>"
      ]
    },
    {
      "cell_type": "markdown",
      "metadata": {
        "id": "waFk5qV7DWd3",
        "colab_type": "text"
      },
      "source": [
        "## 1.6 KNN Disciplines\n",
        "As KNN have been around for a long time and has been very well studied.<br>\n",
        "Different disciplines have different names for it.\n",
        "- __Instance-Based Learning__: The raw training instances are used to make predictions. As such KNN is often referred to as instance-based learning or a case-based learning (where __each training instance is a case from the problem domain__).\n",
        "- __Lazy Learning__: _No learning of the model is required_ and all of the __work happens__ at the time a __prediction is requested__. As such, KNN is often referred to as a __lazy learning algorithm__.\n",
        "- __Non-Parametric__: KNN makes _no assumptions about the __functional form of the problem__ being solved_. As such KNN is referred to as a __non-parametric__ machine learning algorithm."
      ]
    },
    {
      "cell_type": "markdown",
      "metadata": {
        "id": "gQiQ0xwIDWd3",
        "colab_type": "text"
      },
      "source": [
        "#### What is Non-Parametric machine Learning Algorithm?\n",
        "- Algorithms that do not make strong assumptions about the form of the mapping function are called nonparametric machine learning algorithms. \n",
        "- By not making assumptions, they are free to learn any functional form from the training data. \n",
        "> _Nonparametric methods are good when you have a lot of data and no prior knowledge, and when you don’t want to worry too much about choosing just the right features._\n",
        "\n",
        "##### Benefits:\n",
        "1. __Flexibility__: Capable of fitting a large number of functional forms.\n",
        "2. __Power__: No assumptions (or weak assumptions) about the underlying function.\n",
        "3. __Performance__: Can result in higher performance models for prediction.\n",
        "\n",
        "##### Limitations:\n",
        "1. __More data__: Require a lot more training data to estimate the mapping function.\n",
        "2. __Slower__: A lot slower to train as they often have far more parameters to train.\n",
        "3. __Overfitting__: More of a risk to overfit the training data and it is harder to explain why specific predictions are made."
      ]
    },
    {
      "cell_type": "markdown",
      "metadata": {
        "id": "TXMKKuTLDWd4",
        "colab_type": "text"
      },
      "source": [
        "<a id=section110></a>"
      ]
    },
    {
      "cell_type": "markdown",
      "metadata": {
        "id": "AMnVu2FmDWd5",
        "colab_type": "text"
      },
      "source": [
        "## 1.7 Breaking it Down – Pseudo Code of KNN"
      ]
    },
    {
      "cell_type": "markdown",
      "metadata": {
        "id": "oC_jyON-DWd6",
        "colab_type": "text"
      },
      "source": [
        "We can implement a KNN model by following the below steps:\n",
        "\n",
        "1. Load the data\n",
        "2. Initialise the value of k\n",
        "3. For getting the predicted class, iterate from 1 to total number of training data points\n",
        "4. Calculate the distance between each test data and each row of training data. Here we will use Euclidean distance as our   distance metric since it’s the most popular method. The other metrics that can be used are Chebyshev, cosine, etc.\n",
        "5. Sort the calculated distances in ascending order based on distance values\n",
        "6. Get top k rows from the sorted array\n",
        "7. Get the most frequent class for classification/mean or median for regression of these rows\n",
        "8. Return the predicted class\n"
      ]
    },
    {
      "cell_type": "markdown",
      "metadata": {
        "id": "XQ3kgWsTDWd6",
        "colab_type": "text"
      },
      "source": [
        "<a id=section2></a>"
      ]
    },
    {
      "cell_type": "markdown",
      "metadata": {
        "id": "F-ao-GUEDWd7",
        "colab_type": "text"
      },
      "source": [
        "## 2. Use Case - Glass Classification"
      ]
    },
    {
      "cell_type": "markdown",
      "metadata": {
        "_cell_guid": "c0e44c5a-3345-4ef0-bc4a-82dcf797b267",
        "_execution_state": "idle",
        "_uuid": "0cf186678b6923221b797012b5ca1e43407a615b",
        "id": "lWlguKm5DWd8",
        "colab_type": "text"
      },
      "source": [
        "Data set  has 9 properties, the first one is optical property, the rest 8 is chemical oxide contents of glass, so property 1 and property 2-9 has different dimension.<br>\n",
        "unit measurement for contents: weight percent in corresponding oxide, as are attributes\n",
        "glass class has 7 types, but type 4 is not in this data set.<br>\n",
        "\n",
        "----------\n",
        "The study of classification of types of glass was motivated by __criminological investigation__. At the scene of the crime, the glass left can be used as __evidence__...if it is correctly identified!\n",
        "\n",
        "---\n",
        "\n",
        "Names:<br>\n",
        "1. building_windows_float_processed \n",
        "2. building_windows_non_float_processed\n",
        "3. vehicle_windows_float_processed\n",
        "4. vehicle_windows_non_float_processed (none in this database)\n",
        "5. containers\n",
        "6. tableware\n",
        "7. headlamps\n",
        "\n",
        "\n",
        "----------\n",
        "__Main ingredient of glass: SiO2, other contents are also oxides, such as: Na2O, CaO,K2O__"
      ]
    },
    {
      "cell_type": "markdown",
      "metadata": {
        "id": "jzkePOb_DWd8",
        "colab_type": "text"
      },
      "source": [
        "<a id=section3></a>"
      ]
    },
    {
      "cell_type": "markdown",
      "metadata": {
        "_cell_guid": "1e0c0e56-801a-41f4-bc64-5773b4c430dc",
        "_execution_state": "idle",
        "_uuid": "64d7f66aa782dbb725001292d45475c3630adaad",
        "id": "lsdcO8qFDWd9",
        "colab_type": "text"
      },
      "source": [
        "## 3. Dataset (Source, loading and description)\n",
        "https://archive.ics.uci.edu/ml/datasets/Glass+Identification <br>\n",
        "no missing values as per source descreption"
      ]
    },
    {
      "cell_type": "code",
      "metadata": {
        "id": "uiwxsZnDA1T-",
        "colab_type": "code",
        "colab": {}
      },
      "source": [
        "# can you do pandas profiling?\n",
        "\n",
        "#@Sameer\n",
        "\n",
        "\n",
        "#@Deepka "
      ],
      "execution_count": null,
      "outputs": []
    },
    {
      "cell_type": "markdown",
      "metadata": {
        "_cell_guid": "33941ce9-cd60-48a8-b486-c3d80055c492",
        "_execution_state": "idle",
        "_uuid": "506d316953f3e1d3fa3d18dd4d12c4728bc02384",
        "id": "pCG931fKDWd-",
        "colab_type": "text"
      },
      "source": [
        "### Import packages"
      ]
    },
    {
      "cell_type": "code",
      "metadata": {
        "_cell_guid": "beba55c8-0278-493e-8159-64db1aba3a86",
        "_execution_state": "idle",
        "_uuid": "93aa1aca0526313a35f6b4c3b953d8008db6d0f3",
        "id": "jbGXrsupDWd_",
        "colab_type": "code",
        "colab": {
          "base_uri": "https://localhost:8080/",
          "height": 72
        },
        "outputId": "98aca1f7-6c4f-41db-e9d5-e4310753ea9f"
      },
      "source": [
        "import numpy as np # linear algebra\n",
        "import pandas as pd # data processing, CSV file I/O (e.g. pd.read_csv)\n",
        "import matplotlib as mpl\n",
        "import matplotlib.pyplot as plt\n",
        "import seaborn as sns\n",
        "%matplotlib inline"
      ],
      "execution_count": null,
      "outputs": [
        {
          "output_type": "stream",
          "text": [
            "/usr/local/lib/python3.6/dist-packages/statsmodels/tools/_testing.py:19: FutureWarning: pandas.util.testing is deprecated. Use the functions in the public API at pandas.testing instead.\n",
            "  import pandas.util.testing as tm\n"
          ],
          "name": "stderr"
        }
      ]
    },
    {
      "cell_type": "markdown",
      "metadata": {
        "id": "M0pIv7NSDWeC",
        "colab_type": "text"
      },
      "source": [
        "### Import the dataset"
      ]
    },
    {
      "cell_type": "code",
      "metadata": {
        "id": "kZJ2oEY5DWeD",
        "colab_type": "code",
        "colab": {
          "base_uri": "https://localhost:8080/",
          "height": 200
        },
        "outputId": "daecd835-b8f7-4fc0-f4a2-6444250e47fc"
      },
      "source": [
        "glass = pd.read_csv(\"https://raw.githubusercontent.com/insaid2018/Term-3/master/Data/CaseStudy/glass.csv\")\n",
        "glass.head()"
      ],
      "execution_count": null,
      "outputs": [
        {
          "output_type": "execute_result",
          "data": {
            "text/html": [
              "<div>\n",
              "<style scoped>\n",
              "    .dataframe tbody tr th:only-of-type {\n",
              "        vertical-align: middle;\n",
              "    }\n",
              "\n",
              "    .dataframe tbody tr th {\n",
              "        vertical-align: top;\n",
              "    }\n",
              "\n",
              "    .dataframe thead th {\n",
              "        text-align: right;\n",
              "    }\n",
              "</style>\n",
              "<table border=\"1\" class=\"dataframe\">\n",
              "  <thead>\n",
              "    <tr style=\"text-align: right;\">\n",
              "      <th></th>\n",
              "      <th>RI</th>\n",
              "      <th>Na</th>\n",
              "      <th>Mg</th>\n",
              "      <th>Al</th>\n",
              "      <th>Si</th>\n",
              "      <th>K</th>\n",
              "      <th>Ca</th>\n",
              "      <th>Ba</th>\n",
              "      <th>Fe</th>\n",
              "      <th>Type</th>\n",
              "    </tr>\n",
              "  </thead>\n",
              "  <tbody>\n",
              "    <tr>\n",
              "      <th>0</th>\n",
              "      <td>1.52101</td>\n",
              "      <td>13.64</td>\n",
              "      <td>4.49</td>\n",
              "      <td>1.10</td>\n",
              "      <td>71.78</td>\n",
              "      <td>0.06</td>\n",
              "      <td>8.75</td>\n",
              "      <td>0.0</td>\n",
              "      <td>0.0</td>\n",
              "      <td>1</td>\n",
              "    </tr>\n",
              "    <tr>\n",
              "      <th>1</th>\n",
              "      <td>1.51761</td>\n",
              "      <td>13.89</td>\n",
              "      <td>3.60</td>\n",
              "      <td>1.36</td>\n",
              "      <td>72.73</td>\n",
              "      <td>0.48</td>\n",
              "      <td>7.83</td>\n",
              "      <td>0.0</td>\n",
              "      <td>0.0</td>\n",
              "      <td>1</td>\n",
              "    </tr>\n",
              "    <tr>\n",
              "      <th>2</th>\n",
              "      <td>1.51618</td>\n",
              "      <td>13.53</td>\n",
              "      <td>3.55</td>\n",
              "      <td>1.54</td>\n",
              "      <td>72.99</td>\n",
              "      <td>0.39</td>\n",
              "      <td>7.78</td>\n",
              "      <td>0.0</td>\n",
              "      <td>0.0</td>\n",
              "      <td>1</td>\n",
              "    </tr>\n",
              "    <tr>\n",
              "      <th>3</th>\n",
              "      <td>1.51766</td>\n",
              "      <td>13.21</td>\n",
              "      <td>3.69</td>\n",
              "      <td>1.29</td>\n",
              "      <td>72.61</td>\n",
              "      <td>0.57</td>\n",
              "      <td>8.22</td>\n",
              "      <td>0.0</td>\n",
              "      <td>0.0</td>\n",
              "      <td>1</td>\n",
              "    </tr>\n",
              "    <tr>\n",
              "      <th>4</th>\n",
              "      <td>1.51742</td>\n",
              "      <td>13.27</td>\n",
              "      <td>3.62</td>\n",
              "      <td>1.24</td>\n",
              "      <td>73.08</td>\n",
              "      <td>0.55</td>\n",
              "      <td>8.07</td>\n",
              "      <td>0.0</td>\n",
              "      <td>0.0</td>\n",
              "      <td>1</td>\n",
              "    </tr>\n",
              "  </tbody>\n",
              "</table>\n",
              "</div>"
            ],
            "text/plain": [
              "        RI     Na    Mg    Al     Si     K    Ca   Ba   Fe  Type\n",
              "0  1.52101  13.64  4.49  1.10  71.78  0.06  8.75  0.0  0.0     1\n",
              "1  1.51761  13.89  3.60  1.36  72.73  0.48  7.83  0.0  0.0     1\n",
              "2  1.51618  13.53  3.55  1.54  72.99  0.39  7.78  0.0  0.0     1\n",
              "3  1.51766  13.21  3.69  1.29  72.61  0.57  8.22  0.0  0.0     1\n",
              "4  1.51742  13.27  3.62  1.24  73.08  0.55  8.07  0.0  0.0     1"
            ]
          },
          "metadata": {
            "tags": []
          },
          "execution_count": 3
        }
      ]
    },
    {
      "cell_type": "code",
      "metadata": {
        "id": "wJxU01wpDU9G",
        "colab_type": "code",
        "colab": {
          "base_uri": "https://localhost:8080/",
          "height": 35
        },
        "outputId": "ed337cc5-57de-403e-fa17-472312e9a5c9"
      },
      "source": [
        "glass.shape"
      ],
      "execution_count": null,
      "outputs": [
        {
          "output_type": "execute_result",
          "data": {
            "text/plain": [
              "(214, 10)"
            ]
          },
          "metadata": {
            "tags": []
          },
          "execution_count": 4
        }
      ]
    },
    {
      "cell_type": "code",
      "metadata": {
        "id": "JxDtQm44EL7j",
        "colab_type": "code",
        "colab": {}
      },
      "source": [
        "# !pip install pandas-profiling==2.5.0  # do this once, and restart your kernal. this is important, because dafult versons will throw error. "
      ],
      "execution_count": null,
      "outputs": []
    },
    {
      "cell_type": "code",
      "metadata": {
        "id": "0xHVUZeJDXrA",
        "colab_type": "code",
        "colab": {
          "base_uri": "https://localhost:8080/",
          "height": 415,
          "referenced_widgets": [
            "e400393077594b41a9912ee10c74cd3b",
            "1c3b34646f8c42b49ed78927b71ce957",
            "7ab4fb234db74d1f9e408a4775be094c",
            "973583c6603948d4814a9cf60887fa5d",
            "bd4c12437b204427a117e6f27d97feda",
            "fe9bfc73afde4afea2e3d618cfaa22a6",
            "11ef0bc0584843a8874dce2d8c68f140",
            "9dea41a3d86f4cea8bb78d6b873fcc26",
            "6272c7b24f114f6eb407a0fe4e30d570",
            "b8e0ecbc05024734acc75e1c041cc23f",
            "c742ac53ad1248e68a4fa3de11bedc87",
            "800d677c8f9241a4a6a5a2f1ffea1957",
            "8edb42088bf7494d9fbaa7e3d8e90440",
            "6dd91740393e488c8e90f3fb349e358e",
            "a3543a4068eb4fe3a6ddf65a37aa6bd1",
            "576731b5a33443c0ba130c34deebb7ce",
            "b5914cce165d472ba59ce1b09fb54d1a",
            "e08b6106875b478babba5bbd603e2e78",
            "b7aa560d3d9a424cba33f86faa2ae688",
            "0c7e9215152443d2af7cc16cd17f4e6a",
            "61539f5649af4da5b4a16d6b69403445",
            "1f47a8639625471587a71bb2c709635e",
            "f03c722682f14f87b173aefdf39315a4",
            "9749c6e4eb214bbb8663cff42f387f27",
            "f5f25cd904ca497aaff208af670a936b",
            "38187ca1de34465da4be5c7b41863769",
            "f7d8165970c24961b9c6d487789728a8",
            "3ac15eab176a44d1b2832ff524d09502",
            "293408b33b894e14b402d9519fea0219",
            "d8d26046d6ec4b7894d5e1b06a642071",
            "e8794f304f9c4f8ba1703a211437d043",
            "f4d410e3a3f140a49aad275c13f6dcc7",
            "2cfd1941424941309dd7f27a3c4ad84c",
            "033ad371ebd547e69d6182b4040e3677",
            "f48f93ca433c407e8db48390c08fb78c",
            "f0dac253505940e3accf8d59d9b9afb2",
            "c7e4f9233abf4b07b8ea0f00c1195872",
            "e8e6e5c82735490ebadd158d2b334669",
            "4ba1fe3b1ade46f8ad50f9448b694002",
            "1e1cfcbfbf62456c9d7d3f1f0a6f2092",
            "25c1a2da648749eba423c9c345717161",
            "270d7bfe318e470bb1ccd4324d9d9834",
            "a8e3fac4a2a64426aa08d88de0015b93",
            "e3875343f6ab436190f3bbf68455aa04",
            "bde8f0b501614c01a1cbf0db661d9f51",
            "ef75f75fc7994f5b837ba8d94bd64bfe",
            "a2bd124ad68e4035bc2f21698c0a2a5e",
            "aa53b857de6d44e19853b4f12f06cf3b",
            "feafb5167e1f40639660a16d17641d6a",
            "c8c57fa401584e5dadb9e9545bbb6b63",
            "4d0ec306f0ce4ee89c57902e792a5f60",
            "5211ca589d1441cfb097451d559a7027",
            "bc80a176bf48488aa2f4c6f405141ff0",
            "7d545649f5b44df5b254b1652b89daac",
            "adbf49f95e264167be1df87f3d2aa3eb",
            "e982569163624c359afff6292b621ad7",
            "4b52a15e4be643fd9879559448fa5a19",
            "22b22cdffe014d44a679ac42566d3339",
            "0802ba10926147608934ef194bcb746c",
            "1298146c12fe40c78e43f943ebfff9df",
            "9d6c85e7addb454ba78cb99b708672d1",
            "1268ad123bd64cc0847da98a515baa37",
            "daf5caff62ce470594144bffe28ad1bc",
            "8d2c3c02e5ec417b9b9c816d8516fc5b"
          ]
        },
        "outputId": "dd809887-ae20-4f10-e6ff-c767201edbf0"
      },
      "source": [
        "# Pandas Profiling \n",
        "from pandas_profiling import ProfileReport\n",
        "profile = ProfileReport(glass, title=\"Pandas Profiling Report\")\n",
        "profile.to_file(\"your_report.html\")"
      ],
      "execution_count": null,
      "outputs": [
        {
          "output_type": "display_data",
          "data": {
            "application/vnd.jupyter.widget-view+json": {
              "model_id": "e400393077594b41a9912ee10c74cd3b",
              "version_minor": 0,
              "version_major": 2
            },
            "text/plain": [
              "HBox(children=(FloatProgress(value=0.0, description='variables', max=10.0, style=ProgressStyle(description_wid…"
            ]
          },
          "metadata": {
            "tags": []
          }
        },
        {
          "output_type": "stream",
          "text": [
            "\n"
          ],
          "name": "stdout"
        },
        {
          "output_type": "display_data",
          "data": {
            "application/vnd.jupyter.widget-view+json": {
              "model_id": "6272c7b24f114f6eb407a0fe4e30d570",
              "version_minor": 0,
              "version_major": 2
            },
            "text/plain": [
              "HBox(children=(FloatProgress(value=0.0, description='correlations', max=6.0, style=ProgressStyle(description_w…"
            ]
          },
          "metadata": {
            "tags": []
          }
        },
        {
          "output_type": "stream",
          "text": [
            "\n"
          ],
          "name": "stdout"
        },
        {
          "output_type": "display_data",
          "data": {
            "application/vnd.jupyter.widget-view+json": {
              "model_id": "b5914cce165d472ba59ce1b09fb54d1a",
              "version_minor": 0,
              "version_major": 2
            },
            "text/plain": [
              "HBox(children=(FloatProgress(value=0.0, description='interactions [continuous]', style=ProgressStyle(descripti…"
            ]
          },
          "metadata": {
            "tags": []
          }
        },
        {
          "output_type": "stream",
          "text": [
            "\n"
          ],
          "name": "stdout"
        },
        {
          "output_type": "display_data",
          "data": {
            "application/vnd.jupyter.widget-view+json": {
              "model_id": "f5f25cd904ca497aaff208af670a936b",
              "version_minor": 0,
              "version_major": 2
            },
            "text/plain": [
              "HBox(children=(FloatProgress(value=0.0, description='table', max=1.0, style=ProgressStyle(description_width='i…"
            ]
          },
          "metadata": {
            "tags": []
          }
        },
        {
          "output_type": "stream",
          "text": [
            "\n"
          ],
          "name": "stdout"
        },
        {
          "output_type": "display_data",
          "data": {
            "application/vnd.jupyter.widget-view+json": {
              "model_id": "2cfd1941424941309dd7f27a3c4ad84c",
              "version_minor": 0,
              "version_major": 2
            },
            "text/plain": [
              "HBox(children=(FloatProgress(value=0.0, description='missing', max=2.0, style=ProgressStyle(description_width=…"
            ]
          },
          "metadata": {
            "tags": []
          }
        },
        {
          "output_type": "stream",
          "text": [
            "\n"
          ],
          "name": "stdout"
        },
        {
          "output_type": "display_data",
          "data": {
            "application/vnd.jupyter.widget-view+json": {
              "model_id": "25c1a2da648749eba423c9c345717161",
              "version_minor": 0,
              "version_major": 2
            },
            "text/plain": [
              "HBox(children=(FloatProgress(value=0.0, description='warnings', max=3.0, style=ProgressStyle(description_width…"
            ]
          },
          "metadata": {
            "tags": []
          }
        },
        {
          "output_type": "stream",
          "text": [
            "\n"
          ],
          "name": "stdout"
        },
        {
          "output_type": "display_data",
          "data": {
            "application/vnd.jupyter.widget-view+json": {
              "model_id": "feafb5167e1f40639660a16d17641d6a",
              "version_minor": 0,
              "version_major": 2
            },
            "text/plain": [
              "HBox(children=(FloatProgress(value=0.0, description='package', max=1.0, style=ProgressStyle(description_width=…"
            ]
          },
          "metadata": {
            "tags": []
          }
        },
        {
          "output_type": "stream",
          "text": [
            "\n"
          ],
          "name": "stdout"
        },
        {
          "output_type": "display_data",
          "data": {
            "application/vnd.jupyter.widget-view+json": {
              "model_id": "4b52a15e4be643fd9879559448fa5a19",
              "version_minor": 0,
              "version_major": 2
            },
            "text/plain": [
              "HBox(children=(FloatProgress(value=0.0, description='build report structure', max=1.0, style=ProgressStyle(des…"
            ]
          },
          "metadata": {
            "tags": []
          }
        },
        {
          "output_type": "stream",
          "text": [
            "\n"
          ],
          "name": "stdout"
        }
      ]
    },
    {
      "cell_type": "code",
      "metadata": {
        "id": "5mLFK4zaFeKw",
        "colab_type": "code",
        "colab": {}
      },
      "source": [
        "# Observations from PF\n",
        "\n",
        "# if all are Numerical continuous ==> Scaling or Normalization \n",
        "# Real Number in PF signifies Numerical continuous \n",
        "# Judge the Bias and figure out its action \n",
        "    # Kurtosis - [-5,5]  - Peackness - Bias on certain value range \n",
        "    # Skew - [-1,1] - High Skew - \n",
        "\n",
        "    # 1.515 less  and 1.525 greater \n",
        "\n",
        "    # Actions: \n",
        "    # Log of column to address skew and kurtosis \n",
        "    # Hypothesis - > Can we clip small-observatinal records?\n",
        "        # Analysis of all Classes w.r.t to these ranges\n",
        "        \n",
        "        # we can bin the data into 5 categories \n",
        "           # such that lower reprsentations leads to inidvidual \n",
        "\n",
        "        # To test any hypothesis that you have on your observations, \n",
        "            # run it through modeling cycle and check the accuracy\n",
        "                # with our without your hypothesis\n",
        "\n",
        "#NA Column \n",
        "#Sayan --> Kurtosis and Skew is fine \n",
        "# On a high level, each point has a capacity to be 0.81 unit away from the mean value of 13\n",
        "# Similarly, each point has a capacity to be away from other points with 0.6 units \n",
        "# As we can see that both SD & Variance has units lesser than 1, then the difference b/w 95th percentile and max is approx 3 units. \n",
        "\n",
        "# Actions\n",
        "# Outlier Hypothesis:\n",
        "    # Remove the outlier data ~ always be very sure before removing any part of data \n",
        "      # remove that value from column --> impute that value with something \n",
        "      # remove the row < it is important that you cross-check if you are loosing other important information>\n",
        "          # you also have to check class specific data \n",
        "          Class A (95%) & Class B (5%)  -> Target Vairable\n",
        "                    # class 1 --> 95% \n",
        "                    # Class 1 --> 2 % (Don't Remove)\n",
        "    # Binning the data \n",
        "        # 3 Bins - 5,6 bins\n",
        "        # One: Normal Data, two:Outlier Data \n",
        "        # Equal Frequency (each bin has equal number of records) or Equal Value (divide the data  into equal wdith)"
      ],
      "execution_count": null,
      "outputs": []
    },
    {
      "cell_type": "code",
      "metadata": {
        "id": "qAVBnD-Y9lYy",
        "colab_type": "code",
        "colab": {}
      },
      "source": [
        "# Experiment Dictinary - \n",
        "# Tracking the parameters and different experiments \n",
        "# though native data structure\n",
        "\n",
        "d = {}\n",
        "\n",
        "d[\"ExperimentNumber\"] = {\n",
        "    \"preprocessing\":[],\n",
        "    \"accuracy\": {\n",
        "        \"log\":[]\n",
        "        \"dTree:\":[]\n",
        "    }\n",
        "}\n",
        "\n",
        "## Function to guesstimate outliers in column \n",
        "def get_outlier_columns(df):\n",
        "  final_col = []\n",
        "  for eachColum in df:\n",
        "    q1 = getQ1(eachColum)\n",
        "    min = getMin(eachColum)\n",
        "    95Peren = get95thPer(eachColum) (q3 or 95th Percentile)\n",
        "    max = getmax(eachColum)\n",
        "    var = getVar(eachColum)\n",
        "    sd = getsd(eachColum)\n",
        "\n",
        "    AverageUnit = (var+sd)/2\n",
        "    minDiff = q1-min \n",
        "    maxDiff = max-95perce\n",
        "    if mindiff >> AverageUnit && maxDiff >> AverageUnit:\n",
        "      final_col.append(eachColum)\n",
        "  return final_col\n",
        "\n",
        "# Another Way to know presence of outlier is :\n",
        "Q3+1.5*IQR \n",
        "Q1-1.5*IQR "
      ],
      "execution_count": null,
      "outputs": []
    },
    {
      "cell_type": "code",
      "metadata": {
        "id": "a07eFpWyJFZ_",
        "colab_type": "code",
        "colab": {
          "base_uri": "https://localhost:8080/",
          "height": 124
        },
        "outputId": "dca11305-4ecb-4eda-cced-e634839f1964"
      },
      "source": [
        "glass[glass['RI']<1.515]['Type'].value_counts()"
      ],
      "execution_count": null,
      "outputs": [
        {
          "output_type": "execute_result",
          "data": {
            "text/plain": [
              "6    2\n",
              "5    2\n",
              "7    1\n",
              "2    1\n",
              "1    1\n",
              "Name: Type, dtype: int64"
            ]
          },
          "metadata": {
            "tags": []
          },
          "execution_count": 10
        }
      ]
    },
    {
      "cell_type": "code",
      "metadata": {
        "id": "R6ULHz5-IwZs",
        "colab_type": "code",
        "colab": {
          "base_uri": "https://localhost:8080/",
          "height": 106
        },
        "outputId": "07a8bf3f-ea8c-4836-e85e-dd4629aaee54"
      },
      "source": [
        "glass[glass['RI']>1.523]['Type'].value_counts()"
      ],
      "execution_count": null,
      "outputs": [
        {
          "output_type": "execute_result",
          "data": {
            "text/plain": [
              "2    9\n",
              "1    3\n",
              "7    2\n",
              "5    1\n",
              "Name: Type, dtype: int64"
            ]
          },
          "metadata": {
            "tags": []
          },
          "execution_count": 9
        }
      ]
    },
    {
      "cell_type": "code",
      "metadata": {
        "id": "SQiFfU6DJMDo",
        "colab_type": "code",
        "colab": {
          "base_uri": "https://localhost:8080/",
          "height": 248
        },
        "outputId": "74d259b1-79f8-4e50-b1c8-74a09f186a57"
      },
      "source": [
        "pd.cut(glass['RI'],bins=5,labels=[1,2,3,4,5])"
      ],
      "execution_count": null,
      "outputs": [
        {
          "output_type": "execute_result",
          "data": {
            "text/plain": [
              "0      3\n",
              "1      2\n",
              "2      2\n",
              "3      2\n",
              "4      2\n",
              "      ..\n",
              "209    2\n",
              "210    2\n",
              "211    3\n",
              "212    2\n",
              "213    2\n",
              "Name: RI, Length: 214, dtype: category\n",
              "Categories (5, int64): [1 < 2 < 3 < 4 < 5]"
            ]
          },
          "metadata": {
            "tags": []
          },
          "execution_count": 13
        }
      ]
    },
    {
      "cell_type": "markdown",
      "metadata": {
        "id": "Hsl4Rd-9DWeI",
        "colab_type": "text"
      },
      "source": [
        "### Check the shape of dataset"
      ]
    },
    {
      "cell_type": "code",
      "metadata": {
        "_cell_guid": "37fadcaf-3989-4650-8bb4-71cb8286535b",
        "_execution_state": "idle",
        "_uuid": "599ee69f9664d9747aad6713364a3cba502c9ca2",
        "id": "TrlqkfOIDWeI",
        "colab_type": "code",
        "colab": {},
        "outputId": "40e10b0e-34c0-466b-ba22-048945cd198a"
      },
      "source": [
        "glass.shape"
      ],
      "execution_count": null,
      "outputs": [
        {
          "output_type": "execute_result",
          "data": {
            "text/plain": [
              "(214, 10)"
            ]
          },
          "metadata": {
            "tags": []
          },
          "execution_count": 3
        }
      ]
    },
    {
      "cell_type": "markdown",
      "metadata": {
        "id": "T062Mj0dDWeN",
        "colab_type": "text"
      },
      "source": [
        "### Check the columns present in the dataset"
      ]
    },
    {
      "cell_type": "code",
      "metadata": {
        "id": "gp_86COqDWeO",
        "colab_type": "code",
        "colab": {},
        "outputId": "f13ab495-9f8c-4549-eb37-bd7ff935b758"
      },
      "source": [
        "glass.columns"
      ],
      "execution_count": null,
      "outputs": [
        {
          "output_type": "execute_result",
          "data": {
            "text/plain": [
              "Index(['RI', 'Na', 'Mg', 'Al', 'Si', 'K', 'Ca', 'Ba', 'Fe', 'Type'], dtype='object')"
            ]
          },
          "metadata": {
            "tags": []
          },
          "execution_count": 4
        }
      ]
    },
    {
      "cell_type": "markdown",
      "metadata": {
        "id": "c7xDVJJQDWeR",
        "colab_type": "text"
      },
      "source": [
        "### Check the descriptive statistics of the dataset"
      ]
    },
    {
      "cell_type": "code",
      "metadata": {
        "_cell_guid": "628f3e6d-092a-4dac-8e8e-14985432b279",
        "_execution_state": "idle",
        "_uuid": "b50353d4b73e9e0d17c4db1696c43785ff4ab3ed",
        "id": "TO-Q5X71DWeR",
        "colab_type": "code",
        "colab": {},
        "outputId": "8ae85b0e-787a-4637-fa36-fe314a73814d"
      },
      "source": [
        "glass.describe()"
      ],
      "execution_count": null,
      "outputs": [
        {
          "output_type": "execute_result",
          "data": {
            "text/html": [
              "<div>\n",
              "<style scoped>\n",
              "    .dataframe tbody tr th:only-of-type {\n",
              "        vertical-align: middle;\n",
              "    }\n",
              "\n",
              "    .dataframe tbody tr th {\n",
              "        vertical-align: top;\n",
              "    }\n",
              "\n",
              "    .dataframe thead th {\n",
              "        text-align: right;\n",
              "    }\n",
              "</style>\n",
              "<table border=\"1\" class=\"dataframe\">\n",
              "  <thead>\n",
              "    <tr style=\"text-align: right;\">\n",
              "      <th></th>\n",
              "      <th>RI</th>\n",
              "      <th>Na</th>\n",
              "      <th>Mg</th>\n",
              "      <th>Al</th>\n",
              "      <th>Si</th>\n",
              "      <th>K</th>\n",
              "      <th>Ca</th>\n",
              "      <th>Ba</th>\n",
              "      <th>Fe</th>\n",
              "      <th>Type</th>\n",
              "    </tr>\n",
              "  </thead>\n",
              "  <tbody>\n",
              "    <tr>\n",
              "      <th>count</th>\n",
              "      <td>214.000000</td>\n",
              "      <td>214.000000</td>\n",
              "      <td>214.000000</td>\n",
              "      <td>214.000000</td>\n",
              "      <td>214.000000</td>\n",
              "      <td>214.000000</td>\n",
              "      <td>214.000000</td>\n",
              "      <td>214.000000</td>\n",
              "      <td>214.000000</td>\n",
              "      <td>214.000000</td>\n",
              "    </tr>\n",
              "    <tr>\n",
              "      <th>mean</th>\n",
              "      <td>1.518365</td>\n",
              "      <td>13.407850</td>\n",
              "      <td>2.684533</td>\n",
              "      <td>1.444907</td>\n",
              "      <td>72.650935</td>\n",
              "      <td>0.497056</td>\n",
              "      <td>8.956963</td>\n",
              "      <td>0.175047</td>\n",
              "      <td>0.057009</td>\n",
              "      <td>2.780374</td>\n",
              "    </tr>\n",
              "    <tr>\n",
              "      <th>std</th>\n",
              "      <td>0.003037</td>\n",
              "      <td>0.816604</td>\n",
              "      <td>1.442408</td>\n",
              "      <td>0.499270</td>\n",
              "      <td>0.774546</td>\n",
              "      <td>0.652192</td>\n",
              "      <td>1.423153</td>\n",
              "      <td>0.497219</td>\n",
              "      <td>0.097439</td>\n",
              "      <td>2.103739</td>\n",
              "    </tr>\n",
              "    <tr>\n",
              "      <th>min</th>\n",
              "      <td>1.511150</td>\n",
              "      <td>10.730000</td>\n",
              "      <td>0.000000</td>\n",
              "      <td>0.290000</td>\n",
              "      <td>69.810000</td>\n",
              "      <td>0.000000</td>\n",
              "      <td>5.430000</td>\n",
              "      <td>0.000000</td>\n",
              "      <td>0.000000</td>\n",
              "      <td>1.000000</td>\n",
              "    </tr>\n",
              "    <tr>\n",
              "      <th>25%</th>\n",
              "      <td>1.516523</td>\n",
              "      <td>12.907500</td>\n",
              "      <td>2.115000</td>\n",
              "      <td>1.190000</td>\n",
              "      <td>72.280000</td>\n",
              "      <td>0.122500</td>\n",
              "      <td>8.240000</td>\n",
              "      <td>0.000000</td>\n",
              "      <td>0.000000</td>\n",
              "      <td>1.000000</td>\n",
              "    </tr>\n",
              "    <tr>\n",
              "      <th>50%</th>\n",
              "      <td>1.517680</td>\n",
              "      <td>13.300000</td>\n",
              "      <td>3.480000</td>\n",
              "      <td>1.360000</td>\n",
              "      <td>72.790000</td>\n",
              "      <td>0.555000</td>\n",
              "      <td>8.600000</td>\n",
              "      <td>0.000000</td>\n",
              "      <td>0.000000</td>\n",
              "      <td>2.000000</td>\n",
              "    </tr>\n",
              "    <tr>\n",
              "      <th>75%</th>\n",
              "      <td>1.519157</td>\n",
              "      <td>13.825000</td>\n",
              "      <td>3.600000</td>\n",
              "      <td>1.630000</td>\n",
              "      <td>73.087500</td>\n",
              "      <td>0.610000</td>\n",
              "      <td>9.172500</td>\n",
              "      <td>0.000000</td>\n",
              "      <td>0.100000</td>\n",
              "      <td>3.000000</td>\n",
              "    </tr>\n",
              "    <tr>\n",
              "      <th>max</th>\n",
              "      <td>1.533930</td>\n",
              "      <td>17.380000</td>\n",
              "      <td>4.490000</td>\n",
              "      <td>3.500000</td>\n",
              "      <td>75.410000</td>\n",
              "      <td>6.210000</td>\n",
              "      <td>16.190000</td>\n",
              "      <td>3.150000</td>\n",
              "      <td>0.510000</td>\n",
              "      <td>7.000000</td>\n",
              "    </tr>\n",
              "  </tbody>\n",
              "</table>\n",
              "</div>"
            ],
            "text/plain": [
              "               RI          Na          Mg          Al          Si           K  \\\n",
              "count  214.000000  214.000000  214.000000  214.000000  214.000000  214.000000   \n",
              "mean     1.518365   13.407850    2.684533    1.444907   72.650935    0.497056   \n",
              "std      0.003037    0.816604    1.442408    0.499270    0.774546    0.652192   \n",
              "min      1.511150   10.730000    0.000000    0.290000   69.810000    0.000000   \n",
              "25%      1.516523   12.907500    2.115000    1.190000   72.280000    0.122500   \n",
              "50%      1.517680   13.300000    3.480000    1.360000   72.790000    0.555000   \n",
              "75%      1.519157   13.825000    3.600000    1.630000   73.087500    0.610000   \n",
              "max      1.533930   17.380000    4.490000    3.500000   75.410000    6.210000   \n",
              "\n",
              "               Ca          Ba          Fe        Type  \n",
              "count  214.000000  214.000000  214.000000  214.000000  \n",
              "mean     8.956963    0.175047    0.057009    2.780374  \n",
              "std      1.423153    0.497219    0.097439    2.103739  \n",
              "min      5.430000    0.000000    0.000000    1.000000  \n",
              "25%      8.240000    0.000000    0.000000    1.000000  \n",
              "50%      8.600000    0.000000    0.000000    2.000000  \n",
              "75%      9.172500    0.000000    0.100000    3.000000  \n",
              "max     16.190000    3.150000    0.510000    7.000000  "
            ]
          },
          "metadata": {
            "tags": []
          },
          "execution_count": 5
        }
      ]
    },
    {
      "cell_type": "markdown",
      "metadata": {
        "id": "ZyXhXxngDWeV",
        "colab_type": "text"
      },
      "source": [
        "### Check the info of the dataset"
      ]
    },
    {
      "cell_type": "code",
      "metadata": {
        "id": "uWHdpwoaDWeV",
        "colab_type": "code",
        "colab": {},
        "outputId": "1dad3034-2af9-46ff-a800-05cf64554b5b"
      },
      "source": [
        "glass.info()"
      ],
      "execution_count": null,
      "outputs": [
        {
          "output_type": "stream",
          "text": [
            "<class 'pandas.core.frame.DataFrame'>\n",
            "RangeIndex: 214 entries, 0 to 213\n",
            "Data columns (total 10 columns):\n",
            "RI      214 non-null float64\n",
            "Na      214 non-null float64\n",
            "Mg      214 non-null float64\n",
            "Al      214 non-null float64\n",
            "Si      214 non-null float64\n",
            "K       214 non-null float64\n",
            "Ca      214 non-null float64\n",
            "Ba      214 non-null float64\n",
            "Fe      214 non-null float64\n",
            "Type    214 non-null int64\n",
            "dtypes: float64(9), int64(1)\n",
            "memory usage: 16.8 KB\n"
          ],
          "name": "stdout"
        }
      ]
    },
    {
      "cell_type": "markdown",
      "metadata": {
        "id": "Dm0sGhJqDWea",
        "colab_type": "text"
      },
      "source": [
        "<a id=section4></a>"
      ]
    },
    {
      "cell_type": "markdown",
      "metadata": {
        "id": "t0q8-Jl8DWeb",
        "colab_type": "text"
      },
      "source": [
        "## 4. Data Visualization"
      ]
    },
    {
      "cell_type": "markdown",
      "metadata": {
        "id": "1XdEp0N1DWec",
        "colab_type": "text"
      },
      "source": [
        "### Count the no of observations on the basis of type and then create a barplot."
      ]
    },
    {
      "cell_type": "code",
      "metadata": {
        "_cell_guid": "b99ffe81-4553-40cc-8788-f7319cefb187",
        "_execution_state": "idle",
        "_uuid": "3a7216297739896fed666b61ab5453d70a4e0405",
        "id": "a913gIZcDWec",
        "colab_type": "code",
        "colab": {},
        "outputId": "c349898d-7dbd-4991-ba7a-07a18d15938c"
      },
      "source": [
        "type=glass['Type'].groupby(glass['Type']).count()\n",
        "type"
      ],
      "execution_count": null,
      "outputs": [
        {
          "output_type": "execute_result",
          "data": {
            "text/plain": [
              "Type\n",
              "1    70\n",
              "2    76\n",
              "3    17\n",
              "5    13\n",
              "6     9\n",
              "7    29\n",
              "Name: Type, dtype: int64"
            ]
          },
          "metadata": {
            "tags": []
          },
          "execution_count": 7
        }
      ]
    },
    {
      "cell_type": "code",
      "metadata": {
        "_cell_guid": "36b01ba3-4b78-4fe8-bdaf-f8f300f79912",
        "_execution_state": "idle",
        "_uuid": "f01bf37508ffb75dfe8f79a2b6001b8d90aa5682",
        "id": "rOaKPTi3DWeh",
        "colab_type": "code",
        "colab": {},
        "outputId": "9ce4ad06-40f0-4ff0-b5e1-60e313e63bdf"
      },
      "source": [
        "type.plot('bar')"
      ],
      "execution_count": null,
      "outputs": [
        {
          "output_type": "execute_result",
          "data": {
            "text/plain": [
              "<matplotlib.axes._subplots.AxesSubplot at 0x20be72d6c88>"
            ]
          },
          "metadata": {
            "tags": []
          },
          "execution_count": 8
        },
        {
          "output_type": "display_data",
          "data": {
            "image/png": "[encoded data removed]",
            "text/plain": [
              "<Figure size 432x288 with 1 Axes>"
            ]
          },
          "metadata": {
            "tags": [],
            "needs_background": "light"
          }
        }
      ]
    },
    {
      "cell_type": "markdown",
      "metadata": {
        "id": "sP0bumpcDWel",
        "colab_type": "text"
      },
      "source": [
        "### observation:\n",
        "Here, we can see glass data is skewed, class 1 and 2 in majority."
      ]
    },
    {
      "cell_type": "markdown",
      "metadata": {
        "_cell_guid": "cfaea7e7-d311-aa33-38ee-9ade6581a111",
        "_uuid": "242c5e2154da3c830e997eea650a949861a5b846",
        "id": "u0vjpeirDWel",
        "colab_type": "text"
      },
      "source": [
        "### Creating a scatter plot by species."
      ]
    },
    {
      "cell_type": "code",
      "metadata": {
        "_cell_guid": "0f1744dd-011b-79f3-fbc2-61c510adb382",
        "_uuid": "770a9115a8e7031a3f2d9e063aadf2c093ec661d",
        "id": "BsyvUtwmDWem",
        "colab_type": "code",
        "colab": {},
        "outputId": "ac9f0cb9-6ed3-48a5-f887-fdf27ef9b996"
      },
      "source": [
        "sns.FacetGrid(glass, hue=\"Type\", size=5) \\\n",
        "   .map(plt.scatter, \"RI\", \"Na\") \\\n",
        "   .add_legend()"
      ],
      "execution_count": null,
      "outputs": [
        {
          "output_type": "stream",
          "text": [
            "C:\\Users\\mrshu\\Anaconda3\\lib\\site-packages\\seaborn\\axisgrid.py:230: UserWarning: The `size` paramter has been renamed to `height`; please update your code.\n",
            "  warnings.warn(msg, UserWarning)\n"
          ],
          "name": "stderr"
        },
        {
          "output_type": "execute_result",
          "data": {
            "text/plain": [
              "<seaborn.axisgrid.FacetGrid at 0x20be72abc50>"
            ]
          },
          "metadata": {
            "tags": []
          },
          "execution_count": 9
        },
        {
          "output_type": "display_data",
          "data": {
            "image/png": "[encoded data removed]",
            "text/plain": [
              "<Figure size 402.375x360 with 1 Axes>"
            ]
          },
          "metadata": {
            "tags": [],
            "needs_background": "light"
          }
        }
      ]
    },
    {
      "cell_type": "markdown",
      "metadata": {
        "id": "RLaKJH8vDWep",
        "colab_type": "text"
      },
      "source": [
        "### Plotting Andrews Curve"
      ]
    },
    {
      "cell_type": "code",
      "metadata": {
        "_cell_guid": "81e9d0e9-3404-4ebb-c896-e4b2af0e80e3",
        "_uuid": "802c23d581acb010257c8cceed097ef6dfae04f1",
        "id": "Y8_ndPYEDWep",
        "colab_type": "code",
        "colab": {},
        "outputId": "448d7ee8-052e-41c9-aa28-2b140db0063b"
      },
      "source": [
        "# Andrews Curves involve using attributes of samples as coefficients for Fourier series and then plotting these\n",
        "from pandas.tools.plotting import andrews_curves\n",
        "andrews_curves(glass, \"Type\")"
      ],
      "execution_count": null,
      "outputs": [
        {
          "output_type": "stream",
          "text": [
            "C:\\Users\\mrshu\\Anaconda3\\lib\\site-packages\\ipykernel_launcher.py:3: FutureWarning: 'pandas.tools.plotting.andrews_curves' is deprecated, import 'pandas.plotting.andrews_curves' instead.\n",
            "  This is separate from the ipykernel package so we can avoid doing imports until\n"
          ],
          "name": "stderr"
        },
        {
          "output_type": "execute_result",
          "data": {
            "text/plain": [
              "<matplotlib.axes._subplots.AxesSubplot at 0x20be86a97f0>"
            ]
          },
          "metadata": {
            "tags": []
          },
          "execution_count": 10
        },
        {
          "output_type": "display_data",
          "data": {
            "image/png": "[encoded data removed]",
            "text/plain": [
              "<Figure size 432x288 with 1 Axes>"
            ]
          },
          "metadata": {
            "tags": [],
            "needs_background": "light"
          }
        }
      ]
    },
    {
      "cell_type": "markdown",
      "metadata": {
        "id": "f8ckQbi7DWes",
        "colab_type": "text"
      },
      "source": [
        "Andrews curves allow one to plot multivariate data as a large number of curves that are created using the attributes of samples as coefficients for Fourier series. By coloring these curves differently for each class it is possible to visualize data clustering. Curves belonging to samples of the same class will usually be closer together and form larger structures."
      ]
    },
    {
      "cell_type": "markdown",
      "metadata": {
        "id": "qqGbGg9YDWes",
        "colab_type": "text"
      },
      "source": [
        "### Plotting parallel coordinates"
      ]
    },
    {
      "cell_type": "code",
      "metadata": {
        "_cell_guid": "02095f96-457d-f165-0abf-7a79b87f95f1",
        "_uuid": "7387dcd6902867b2921549628dc441369ba157d5",
        "id": "L6EfdHuxDWet",
        "colab_type": "code",
        "colab": {},
        "outputId": "d431bfd6-58a6-40e7-ccb9-818d4bcd1835"
      },
      "source": [
        "# Parallel coordinates plots each feature on a separate column & then draws lines connecting the features for each data sample\n",
        "from pandas.tools.plotting import parallel_coordinates\n",
        "parallel_coordinates(glass, \"Type\")"
      ],
      "execution_count": null,
      "outputs": [
        {
          "output_type": "stream",
          "text": [
            "C:\\Users\\mrshu\\Anaconda3\\lib\\site-packages\\ipykernel_launcher.py:3: FutureWarning: 'pandas.tools.plotting.parallel_coordinates' is deprecated, import 'pandas.plotting.parallel_coordinates' instead.\n",
            "  This is separate from the ipykernel package so we can avoid doing imports until\n"
          ],
          "name": "stderr"
        },
        {
          "output_type": "execute_result",
          "data": {
            "text/plain": [
              "<matplotlib.axes._subplots.AxesSubplot at 0x20be864c9e8>"
            ]
          },
          "metadata": {
            "tags": []
          },
          "execution_count": 11
        },
        {
          "output_type": "display_data",
          "data": {
            "image/png": "[encoded data removed]",
            "text/plain": [
              "<Figure size 432x288 with 1 Axes>"
            ]
          },
          "metadata": {
            "tags": [],
            "needs_background": "light"
          }
        }
      ]
    },
    {
      "cell_type": "markdown",
      "metadata": {
        "id": "HRaHs5IuDWew",
        "colab_type": "text"
      },
      "source": [
        "### Plotting radviz"
      ]
    },
    {
      "cell_type": "code",
      "metadata": {
        "_cell_guid": "10035edd-bf23-67fa-eca4-9f5b06761c31",
        "_uuid": "7e345ffe235b35e33527894119ce2eebd3b60046",
        "id": "0AiO8nkfDWex",
        "colab_type": "code",
        "colab": {},
        "outputId": "a853ade6-cae1-46b8-c57b-813c6b9a538c"
      },
      "source": [
        "# Radviz puts each feature as a point on a 2D plane, and then simulates\n",
        "# having each sample attached to those points through a spring weighted\n",
        "# by the relative value for that feature\n",
        "from pandas.tools.plotting import radviz\n",
        "radviz(glass, \"Type\")"
      ],
      "execution_count": null,
      "outputs": [
        {
          "output_type": "stream",
          "text": [
            "C:\\Users\\mrshu\\Anaconda3\\lib\\site-packages\\ipykernel_launcher.py:5: FutureWarning: 'pandas.tools.plotting.radviz' is deprecated, import 'pandas.plotting.radviz' instead.\n",
            "  \"\"\"\n"
          ],
          "name": "stderr"
        },
        {
          "output_type": "execute_result",
          "data": {
            "text/plain": [
              "<matplotlib.axes._subplots.AxesSubplot at 0x20be8c5fe48>"
            ]
          },
          "metadata": {
            "tags": []
          },
          "execution_count": 12
        },
        {
          "output_type": "display_data",
          "data": {
            "image/png": "[encoded data removed]",
            "text/plain": [
              "<Figure size 432x288 with 1 Axes>"
            ]
          },
          "metadata": {
            "tags": [],
            "needs_background": "light"
          }
        }
      ]
    },
    {
      "cell_type": "markdown",
      "metadata": {
        "id": "m1IiIqI0DWe1",
        "colab_type": "text"
      },
      "source": [
        "<a id=section5></a>"
      ]
    },
    {
      "cell_type": "markdown",
      "metadata": {
        "id": "o4eN4CixDWe2",
        "colab_type": "text"
      },
      "source": [
        "## 5. Data Standardization"
      ]
    },
    {
      "cell_type": "markdown",
      "metadata": {
        "id": "uoDY-1SWDWe2",
        "colab_type": "text"
      },
      "source": [
        "### Compute the skewness of the data"
      ]
    },
    {
      "cell_type": "code",
      "metadata": {
        "_cell_guid": "341158fe-ec4c-df53-77fd-50b29bef6ea1",
        "_uuid": "740ab6ec36ab935f68fd2a838e6e666f6f148876",
        "id": "RN3WC92lDWe3",
        "colab_type": "code",
        "colab": {
          "base_uri": "https://localhost:8080/",
          "height": 212
        },
        "outputId": "c5da56ba-0146-4e56-a532-d8d1db5abb59"
      },
      "source": [
        "glass.skew()"
      ],
      "execution_count": null,
      "outputs": [
        {
          "output_type": "execute_result",
          "data": {
            "text/plain": [
              "RI      1.625431\n",
              "Na      0.454181\n",
              "Mg     -1.152559\n",
              "Al      0.907290\n",
              "Si     -0.730447\n",
              "K       6.551648\n",
              "Ca      2.047054\n",
              "Ba      3.416425\n",
              "Fe      1.754327\n",
              "Type    1.114915\n",
              "dtype: float64"
            ]
          },
          "metadata": {
            "tags": []
          },
          "execution_count": 5
        }
      ]
    },
    {
      "cell_type": "markdown",
      "metadata": {
        "id": "-iFg1WHGDWe6",
        "colab_type": "text"
      },
      "source": [
        "### Using StandardScaler to standardize the data"
      ]
    },
    {
      "cell_type": "code",
      "metadata": {
        "_cell_guid": "4ab589b3-9b62-e169-2e3f-95dd85670419",
        "_uuid": "1e3c43a43089b6cd80cf7f72a3325ad85506a3d4",
        "id": "zIAQdVqkDWe7",
        "colab_type": "code",
        "colab": {
          "base_uri": "https://localhost:8080/",
          "height": 195
        },
        "outputId": "a792e0c0-7072-43f4-b533-e9a3cceeeb41"
      },
      "source": [
        "from sklearn.preprocessing import StandardScaler\n",
        "sc = StandardScaler()\n",
        "\n",
        "label = glass.pop('Type')\n",
        "\n",
        "sc.fit(glass)                                                                                   # fit the data to Standardscaler\n",
        "\n",
        "glass_scale = sc.transform(glass)                                                               # transform the data\n",
        "\n",
        "print('After standardizing our features, the first 5 rows of our data now look like this:\\n')   # print the first 5 value after standardization\n",
        "print(pd.DataFrame(glass_scale, columns=glass.columns).head())                                  # Put it to dataframe                              \n"
      ],
      "execution_count": null,
      "outputs": [
        {
          "output_type": "stream",
          "text": [
            "After standardizing our features, the first 5 rows of our data now look like this:\n",
            "\n",
            "         RI        Na        Mg  ...        Ca        Ba        Fe\n",
            "0  0.872868  0.284953  1.254639  ... -0.145766 -0.352877 -0.586451\n",
            "1 -0.249333  0.591817  0.636168  ... -0.793734 -0.352877 -0.586451\n",
            "2 -0.721318  0.149933  0.601422  ... -0.828949 -0.352877 -0.586451\n",
            "3 -0.232831 -0.242853  0.698710  ... -0.519052 -0.352877 -0.586451\n",
            "4 -0.312045 -0.169205  0.650066  ... -0.624699 -0.352877 -0.586451\n",
            "\n",
            "[5 rows x 9 columns]\n"
          ],
          "name": "stdout"
        }
      ]
    },
    {
      "cell_type": "code",
      "metadata": {
        "id": "UZMk4qDXP0Ah",
        "colab_type": "code",
        "colab": {
          "base_uri": "https://localhost:8080/",
          "height": 195
        },
        "outputId": "bd4ea219-3918-4183-d11e-ba2cabf97109"
      },
      "source": [
        "# how do i get back to orignal scales? \n",
        "# use inverse_transofrm -- -this is very common transformation which is avilable in tranformation \n",
        "df = pd.DataFrame(glass_scale, columns=glass.columns).head()\n",
        "sc.inverse_transform(df)"
      ],
      "execution_count": null,
      "outputs": [
        {
          "output_type": "execute_result",
          "data": {
            "text/plain": [
              "array([[1.52101e+00, 1.36400e+01, 4.49000e+00, 1.10000e+00, 7.17800e+01,\n",
              "        6.00000e-02, 8.75000e+00, 0.00000e+00, 0.00000e+00],\n",
              "       [1.51761e+00, 1.38900e+01, 3.60000e+00, 1.36000e+00, 7.27300e+01,\n",
              "        4.80000e-01, 7.83000e+00, 0.00000e+00, 0.00000e+00],\n",
              "       [1.51618e+00, 1.35300e+01, 3.55000e+00, 1.54000e+00, 7.29900e+01,\n",
              "        3.90000e-01, 7.78000e+00, 0.00000e+00, 0.00000e+00],\n",
              "       [1.51766e+00, 1.32100e+01, 3.69000e+00, 1.29000e+00, 7.26100e+01,\n",
              "        5.70000e-01, 8.22000e+00, 0.00000e+00, 0.00000e+00],\n",
              "       [1.51742e+00, 1.32700e+01, 3.62000e+00, 1.24000e+00, 7.30800e+01,\n",
              "        5.50000e-01, 8.07000e+00, 0.00000e+00, 0.00000e+00]])"
            ]
          },
          "metadata": {
            "tags": []
          },
          "execution_count": 7
        }
      ]
    },
    {
      "cell_type": "markdown",
      "metadata": {
        "id": "Lq6A1368DWe_",
        "colab_type": "text"
      },
      "source": [
        "### Compute skewness after StandardScaler"
      ]
    },
    {
      "cell_type": "code",
      "metadata": {
        "_cell_guid": "599063c0-9fae-1889-e31b-4595bdf4e2bb",
        "_uuid": "0c2c8ad21cea338500826f7a67a83c2b738c49cf",
        "id": "VvHsjZPMDWfA",
        "colab_type": "code",
        "colab": {},
        "outputId": "48c5a64d-eb3d-42ff-86b5-47ba6db0e1d8"
      },
      "source": [
        "pd.DataFrame(glass_scale).skew()"
      ],
      "execution_count": null,
      "outputs": [
        {
          "output_type": "execute_result",
          "data": {
            "text/plain": [
              "0    1.625431\n",
              "1    0.454181\n",
              "2   -1.152559\n",
              "3    0.907290\n",
              "4   -0.730447\n",
              "5    6.551648\n",
              "6    2.047054\n",
              "7    3.416425\n",
              "8    1.754327\n",
              "dtype: float64"
            ]
          },
          "metadata": {
            "tags": []
          },
          "execution_count": 15
        }
      ]
    },
    {
      "cell_type": "markdown",
      "metadata": {
        "id": "vHMneyJJDWfG",
        "colab_type": "text"
      },
      "source": [
        "<a id=section6></a>"
      ]
    },
    {
      "cell_type": "markdown",
      "metadata": {
        "id": "KhbLsm5cDWfH",
        "colab_type": "text"
      },
      "source": [
        "## 6. Train-Test split"
      ]
    },
    {
      "cell_type": "code",
      "metadata": {
        "_cell_guid": "b2e6a1da-1e5a-c2f0-8a2f-2c82f2ed7327",
        "_uuid": "c53a90d61adaab48c5401b159ee8affb752176f0",
        "id": "TV_TrYX-DWfH",
        "colab_type": "code",
        "colab": {}
      },
      "source": [
        "from sklearn.model_selection import train_test_split\n",
        "data_train, data_test, label_train, label_test = train_test_split(glass_scale, label, test_size = 0.2, random_state = 42)"
      ],
      "execution_count": null,
      "outputs": []
    },
    {
      "cell_type": "code",
      "metadata": {
        "id": "2Zu1tlrcQyAC",
        "colab_type": "code",
        "colab": {}
      },
      "source": [
        "# what is random state? \n",
        "# It does random for the first time and then remebers the randomness so as to get the same <operation> when run again. helps in reproducibility\n",
        "\n",
        "# why is there a number when you define seed or random_state? \n",
        "???  <\"Pointer\"> Data Structure - C++ "
      ],
      "execution_count": null,
      "outputs": []
    },
    {
      "cell_type": "markdown",
      "metadata": {
        "id": "Zy4RhtcdDWfK",
        "colab_type": "text"
      },
      "source": [
        "### Check the shape of data_train and data_test"
      ]
    },
    {
      "cell_type": "code",
      "metadata": {
        "id": "wwlpBky_DWfL",
        "colab_type": "code",
        "colab": {
          "base_uri": "https://localhost:8080/",
          "height": 52
        },
        "outputId": "95050554-961e-481f-8a2f-fbac245b4b5f"
      },
      "source": [
        "print('There are {} samples in the training set and {} samples in the test set'.format(\n",
        "data_train.shape[0], data_test.shape[0]))\n",
        "print()"
      ],
      "execution_count": null,
      "outputs": [
        {
          "output_type": "stream",
          "text": [
            "There are 171 samples in the training set and 43 samples in the test set\n",
            "\n"
          ],
          "name": "stdout"
        }
      ]
    },
    {
      "cell_type": "markdown",
      "metadata": {
        "id": "sUbkVSHUDWfO",
        "colab_type": "text"
      },
      "source": [
        "<a id=section7></a>"
      ]
    },
    {
      "cell_type": "markdown",
      "metadata": {
        "id": "k3855yCkDWfO",
        "colab_type": "text"
      },
      "source": [
        "## 7. Modelling and prediction"
      ]
    },
    {
      "cell_type": "markdown",
      "metadata": {
        "_cell_guid": "11370d3e-5e5d-83fe-5837-29bef88ce81c",
        "_uuid": "a73e8c27818fb32a7f5243251fe1508e1784555c",
        "id": "nbar2HSLDWfP",
        "colab_type": "text"
      },
      "source": [
        "### 7.1.(a) Instantiate K nearest neighbour Classifier"
      ]
    },
    {
      "cell_type": "code",
      "metadata": {
        "_cell_guid": "a0b49be7-cd7e-672d-3f9f-baa92d1b70fb",
        "_uuid": "3deb23d3c2026a72257b61a1005c449445b04253",
        "id": "M_N6Q5bUDWfQ",
        "colab_type": "code",
        "colab": {}
      },
      "source": [
        "from sklearn.neighbors import KNeighborsClassifier\n",
        "knn = KNeighborsClassifier(n_neighbors=5, p=1)\n",
        "# p2 - eucledian "
      ],
      "execution_count": null,
      "outputs": []
    },
    {
      "cell_type": "markdown",
      "metadata": {
        "id": "ZgCjbi7iDWfT",
        "colab_type": "text"
      },
      "source": [
        "### 7.1.(b) Fit the model"
      ]
    },
    {
      "cell_type": "code",
      "metadata": {
        "id": "QX6pU7XiDWfU",
        "colab_type": "code",
        "colab": {
          "base_uri": "https://localhost:8080/",
          "height": 70
        },
        "outputId": "22798103-4be8-4bbe-ec78-4757b699a9cf"
      },
      "source": [
        "knn.fit(data_train, label_train)"
      ],
      "execution_count": null,
      "outputs": [
        {
          "output_type": "execute_result",
          "data": {
            "text/plain": [
              "KNeighborsClassifier(algorithm='auto', leaf_size=30, metric='minkowski',\n",
              "                     metric_params=None, n_jobs=None, n_neighbors=5, p=1,\n",
              "                     weights='uniform')"
            ]
          },
          "metadata": {
            "tags": []
          },
          "execution_count": 31
        }
      ]
    },
    {
      "cell_type": "markdown",
      "metadata": {
        "id": "1IJ1qudEDWfX",
        "colab_type": "text"
      },
      "source": [
        "### 7.1.(c) Use the model for prediction"
      ]
    },
    {
      "cell_type": "code",
      "metadata": {
        "id": "O9rVlHW0DWfY",
        "colab_type": "code",
        "colab": {}
      },
      "source": [
        "y_preds = knn.predict(data_test)"
      ],
      "execution_count": null,
      "outputs": []
    },
    {
      "cell_type": "markdown",
      "metadata": {
        "id": "WxdDCxbaDWfZ",
        "colab_type": "text"
      },
      "source": [
        "### 7.1.(d) Model evaluation using accuracy score"
      ]
    },
    {
      "cell_type": "code",
      "metadata": {
        "id": "tpA1r7N_DWfa",
        "colab_type": "code",
        "colab": {
          "base_uri": "https://localhost:8080/",
          "height": 35
        },
        "outputId": "3a602d52-c04a-4533-bfca-390f61ab4871"
      },
      "source": [
        "from sklearn.metrics import accuracy_score\n",
        "knn_accuracy = accuracy_score(label_test,y_preds)\n",
        "print('Accuracy score for the KNN model:', knn_accuracy)"
      ],
      "execution_count": null,
      "outputs": [
        {
          "output_type": "stream",
          "text": [
            "Accuracy score for the KNN model: 0.7674418604651163\n"
          ],
          "name": "stdout"
        }
      ]
    },
    {
      "cell_type": "markdown",
      "metadata": {
        "id": "X42j_WT-DWfd",
        "colab_type": "text"
      },
      "source": [
        "### 7.2.(a) Instantiate Logistic Regression"
      ]
    },
    {
      "cell_type": "code",
      "metadata": {
        "_cell_guid": "e70ad3b4-5189-fe1a-22d3-90ee5a4f774d",
        "_uuid": "81baaf8bdac0ca92efc7e886369c5077252b3485",
        "id": "aR12SuNkDWfe",
        "colab_type": "code",
        "colab": {}
      },
      "source": [
        "from sklearn.linear_model import LogisticRegression\n",
        "logis = LogisticRegression()"
      ],
      "execution_count": null,
      "outputs": []
    },
    {
      "cell_type": "markdown",
      "metadata": {
        "id": "I8ssHVwYDWfg",
        "colab_type": "text"
      },
      "source": [
        "### 7.2.(b) Fit the model"
      ]
    },
    {
      "cell_type": "code",
      "metadata": {
        "id": "I7g7FqZNDWfh",
        "colab_type": "code",
        "colab": {},
        "outputId": "332a2ee5-4b34-406e-cc96-705718295c6a"
      },
      "source": [
        "logis.fit(data_train, label_train)"
      ],
      "execution_count": null,
      "outputs": [
        {
          "output_type": "execute_result",
          "data": {
            "text/plain": [
              "LogisticRegression(C=1.0, class_weight=None, dual=False, fit_intercept=True,\n",
              "          intercept_scaling=1, max_iter=100, multi_class='ovr', n_jobs=1,\n",
              "          penalty='l2', random_state=None, solver='liblinear', tol=0.0001,\n",
              "          verbose=0, warm_start=False)"
            ]
          },
          "metadata": {
            "tags": []
          },
          "execution_count": 23
        }
      ]
    },
    {
      "cell_type": "markdown",
      "metadata": {
        "id": "9Mjjcb3QDWfk",
        "colab_type": "text"
      },
      "source": [
        "### 7.2.(c) Use the model for prediction"
      ]
    },
    {
      "cell_type": "code",
      "metadata": {
        "id": "XgvhRnN0DWfk",
        "colab_type": "code",
        "colab": {}
      },
      "source": [
        "y_pred = logis.predict(data_test)"
      ],
      "execution_count": null,
      "outputs": []
    },
    {
      "cell_type": "markdown",
      "metadata": {
        "id": "vys-KjQuDWfo",
        "colab_type": "text"
      },
      "source": [
        "### 7.2.(d) Model Evaluation using Accuracy score"
      ]
    },
    {
      "cell_type": "code",
      "metadata": {
        "id": "jMvPM65ADWfo",
        "colab_type": "code",
        "colab": {},
        "outputId": "ef0a87f5-04f0-4f71-8328-6e840e3a26fb"
      },
      "source": [
        "from sklearn.metrics import accuracy_score\n",
        "logit_accuracy = accuracy_score(label_test,y_pred)\n",
        "print('Accuracy score for the Logistic model:', logit_accuracy)"
      ],
      "execution_count": null,
      "outputs": [
        {
          "output_type": "stream",
          "text": [
            "Accuracy score for the Logistic model: 0.6307692307692307\n"
          ],
          "name": "stdout"
        }
      ]
    },
    {
      "cell_type": "markdown",
      "metadata": {
        "id": "V7D4j185DWfq",
        "colab_type": "text"
      },
      "source": [
        "<a id=section8></a>"
      ]
    },
    {
      "cell_type": "markdown",
      "metadata": {
        "id": "Q6QP_9BEDWfr",
        "colab_type": "text"
      },
      "source": [
        "## 8. Model comparison using accuracy score"
      ]
    },
    {
      "cell_type": "code",
      "metadata": {
        "id": "_nO5ZlYcDWfs",
        "colab_type": "code",
        "colab": {},
        "outputId": "933830a5-1ada-4113-f333-8a6a92075c02"
      },
      "source": [
        "models = pd.DataFrame({\n",
        "        'Model'          : ['Logistic Regression', 'kNN'],\n",
        "        'Accuracy_score' : [logit_accuracy, knn_accuracy]\n",
        "    })\n",
        "models.sort_values(by='Accuracy_score', ascending=False)"
      ],
      "execution_count": null,
      "outputs": [
        {
          "output_type": "execute_result",
          "data": {
            "text/html": [
              "<div>\n",
              "<style scoped>\n",
              "    .dataframe tbody tr th:only-of-type {\n",
              "        vertical-align: middle;\n",
              "    }\n",
              "\n",
              "    .dataframe tbody tr th {\n",
              "        vertical-align: top;\n",
              "    }\n",
              "\n",
              "    .dataframe thead th {\n",
              "        text-align: right;\n",
              "    }\n",
              "</style>\n",
              "<table border=\"1\" class=\"dataframe\">\n",
              "  <thead>\n",
              "    <tr style=\"text-align: right;\">\n",
              "      <th></th>\n",
              "      <th>Model</th>\n",
              "      <th>Accuracy_score</th>\n",
              "    </tr>\n",
              "  </thead>\n",
              "  <tbody>\n",
              "    <tr>\n",
              "      <th>1</th>\n",
              "      <td>kNN</td>\n",
              "      <td>0.646154</td>\n",
              "    </tr>\n",
              "    <tr>\n",
              "      <th>0</th>\n",
              "      <td>Logistic Regression</td>\n",
              "      <td>0.630769</td>\n",
              "    </tr>\n",
              "  </tbody>\n",
              "</table>\n",
              "</div>"
            ],
            "text/plain": [
              "                 Model  Accuracy_score\n",
              "1                  kNN        0.646154\n",
              "0  Logistic Regression        0.630769"
            ]
          },
          "metadata": {
            "tags": []
          },
          "execution_count": 26
        }
      ]
    },
    {
      "cell_type": "markdown",
      "metadata": {
        "id": "YGJUfQVSDWfv",
        "colab_type": "text"
      },
      "source": [
        "<a id=section9></a>"
      ]
    },
    {
      "cell_type": "markdown",
      "metadata": {
        "id": "1PrG2gQ8DWfw",
        "colab_type": "text"
      },
      "source": [
        "## 9. Implementing KNN regressor using iris dataset"
      ]
    },
    {
      "cell_type": "code",
      "metadata": {
        "_uuid": "f7004ee385b0ed50a5c5a238ce1e943dbd88a7a1",
        "id": "mIQ4tTb2DWfx",
        "colab_type": "code",
        "colab": {}
      },
      "source": [
        "# Importing the iris\n",
        "iris = pd.read_csv('https://raw.githubusercontent.com/insaid2018/Term-3/master/Data/CaseStudy/Iris.csv')"
      ],
      "execution_count": null,
      "outputs": []
    },
    {
      "cell_type": "markdown",
      "metadata": {
        "_uuid": "d6d0db37957228f9ad34ae5719f0d32639c2dfae",
        "id": "ADmT4vNdDWfz",
        "colab_type": "text"
      },
      "source": [
        "### 9.1 Summarize the iris"
      ]
    },
    {
      "cell_type": "code",
      "metadata": {
        "_uuid": "155ac54ae57dc8e9eb92a85d75bfc32a0d16e279",
        "id": "cgSLauSIDWf0",
        "colab_type": "code",
        "colab": {
          "base_uri": "https://localhost:8080/",
          "height": 34
        },
        "outputId": "dd7636ba-aa00-425b-9dab-53eb02540410"
      },
      "source": [
        "# We can get a quick idea of how many instances (rows) and how many attributes (columns) the data contains with the shape property.\n",
        "iris.shape"
      ],
      "execution_count": null,
      "outputs": [
        {
          "output_type": "execute_result",
          "data": {
            "text/plain": [
              "(150, 6)"
            ]
          },
          "metadata": {
            "tags": []
          },
          "execution_count": 5
        }
      ]
    },
    {
      "cell_type": "code",
      "metadata": {
        "_uuid": "69f70bb38e56e65e10e2701887f60dbea06e13cd",
        "id": "BXXgvIPrDWf5",
        "colab_type": "code",
        "colab": {
          "base_uri": "https://localhost:8080/",
          "height": 195
        },
        "outputId": "f00bf3e0-9ddc-441d-c8bb-d3b9843591b2"
      },
      "source": [
        "iris.head(5)"
      ],
      "execution_count": null,
      "outputs": [
        {
          "output_type": "execute_result",
          "data": {
            "text/html": [
              "<div>\n",
              "<style scoped>\n",
              "    .dataframe tbody tr th:only-of-type {\n",
              "        vertical-align: middle;\n",
              "    }\n",
              "\n",
              "    .dataframe tbody tr th {\n",
              "        vertical-align: top;\n",
              "    }\n",
              "\n",
              "    .dataframe thead th {\n",
              "        text-align: right;\n",
              "    }\n",
              "</style>\n",
              "<table border=\"1\" class=\"dataframe\">\n",
              "  <thead>\n",
              "    <tr style=\"text-align: right;\">\n",
              "      <th></th>\n",
              "      <th>Id</th>\n",
              "      <th>SepalLengthCm</th>\n",
              "      <th>SepalWidthCm</th>\n",
              "      <th>PetalLengthCm</th>\n",
              "      <th>PetalWidthCm</th>\n",
              "      <th>Species</th>\n",
              "    </tr>\n",
              "  </thead>\n",
              "  <tbody>\n",
              "    <tr>\n",
              "      <th>0</th>\n",
              "      <td>1</td>\n",
              "      <td>5.1</td>\n",
              "      <td>3.5</td>\n",
              "      <td>1.4</td>\n",
              "      <td>0.2</td>\n",
              "      <td>Iris-setosa</td>\n",
              "    </tr>\n",
              "    <tr>\n",
              "      <th>1</th>\n",
              "      <td>2</td>\n",
              "      <td>4.9</td>\n",
              "      <td>3.0</td>\n",
              "      <td>1.4</td>\n",
              "      <td>0.2</td>\n",
              "      <td>Iris-setosa</td>\n",
              "    </tr>\n",
              "    <tr>\n",
              "      <th>2</th>\n",
              "      <td>3</td>\n",
              "      <td>4.7</td>\n",
              "      <td>3.2</td>\n",
              "      <td>1.3</td>\n",
              "      <td>0.2</td>\n",
              "      <td>Iris-setosa</td>\n",
              "    </tr>\n",
              "    <tr>\n",
              "      <th>3</th>\n",
              "      <td>4</td>\n",
              "      <td>4.6</td>\n",
              "      <td>3.1</td>\n",
              "      <td>1.5</td>\n",
              "      <td>0.2</td>\n",
              "      <td>Iris-setosa</td>\n",
              "    </tr>\n",
              "    <tr>\n",
              "      <th>4</th>\n",
              "      <td>5</td>\n",
              "      <td>5.0</td>\n",
              "      <td>3.6</td>\n",
              "      <td>1.4</td>\n",
              "      <td>0.2</td>\n",
              "      <td>Iris-setosa</td>\n",
              "    </tr>\n",
              "  </tbody>\n",
              "</table>\n",
              "</div>"
            ],
            "text/plain": [
              "   Id  SepalLengthCm  SepalWidthCm  PetalLengthCm  PetalWidthCm      Species\n",
              "0   1            5.1           3.5            1.4           0.2  Iris-setosa\n",
              "1   2            4.9           3.0            1.4           0.2  Iris-setosa\n",
              "2   3            4.7           3.2            1.3           0.2  Iris-setosa\n",
              "3   4            4.6           3.1            1.5           0.2  Iris-setosa\n",
              "4   5            5.0           3.6            1.4           0.2  Iris-setosa"
            ]
          },
          "metadata": {
            "tags": []
          },
          "execution_count": 6
        }
      ]
    },
    {
      "cell_type": "code",
      "metadata": {
        "_uuid": "0fcbdae769cfd453325a28affc07c0292ab277cf",
        "id": "hX0efmbFDWf7",
        "colab_type": "code",
        "colab": {
          "base_uri": "https://localhost:8080/",
          "height": 284
        },
        "outputId": "f3f594be-aff8-4db8-e983-90a8c931aadb"
      },
      "source": [
        "iris.describe()"
      ],
      "execution_count": null,
      "outputs": [
        {
          "output_type": "execute_result",
          "data": {
            "text/html": [
              "<div>\n",
              "<style scoped>\n",
              "    .dataframe tbody tr th:only-of-type {\n",
              "        vertical-align: middle;\n",
              "    }\n",
              "\n",
              "    .dataframe tbody tr th {\n",
              "        vertical-align: top;\n",
              "    }\n",
              "\n",
              "    .dataframe thead th {\n",
              "        text-align: right;\n",
              "    }\n",
              "</style>\n",
              "<table border=\"1\" class=\"dataframe\">\n",
              "  <thead>\n",
              "    <tr style=\"text-align: right;\">\n",
              "      <th></th>\n",
              "      <th>Id</th>\n",
              "      <th>SepalLengthCm</th>\n",
              "      <th>SepalWidthCm</th>\n",
              "      <th>PetalLengthCm</th>\n",
              "      <th>PetalWidthCm</th>\n",
              "    </tr>\n",
              "  </thead>\n",
              "  <tbody>\n",
              "    <tr>\n",
              "      <th>count</th>\n",
              "      <td>150.000000</td>\n",
              "      <td>150.000000</td>\n",
              "      <td>150.000000</td>\n",
              "      <td>150.000000</td>\n",
              "      <td>150.000000</td>\n",
              "    </tr>\n",
              "    <tr>\n",
              "      <th>mean</th>\n",
              "      <td>75.500000</td>\n",
              "      <td>5.843333</td>\n",
              "      <td>3.054000</td>\n",
              "      <td>3.758667</td>\n",
              "      <td>1.198667</td>\n",
              "    </tr>\n",
              "    <tr>\n",
              "      <th>std</th>\n",
              "      <td>43.445368</td>\n",
              "      <td>0.828066</td>\n",
              "      <td>0.433594</td>\n",
              "      <td>1.764420</td>\n",
              "      <td>0.763161</td>\n",
              "    </tr>\n",
              "    <tr>\n",
              "      <th>min</th>\n",
              "      <td>1.000000</td>\n",
              "      <td>4.300000</td>\n",
              "      <td>2.000000</td>\n",
              "      <td>1.000000</td>\n",
              "      <td>0.100000</td>\n",
              "    </tr>\n",
              "    <tr>\n",
              "      <th>25%</th>\n",
              "      <td>38.250000</td>\n",
              "      <td>5.100000</td>\n",
              "      <td>2.800000</td>\n",
              "      <td>1.600000</td>\n",
              "      <td>0.300000</td>\n",
              "    </tr>\n",
              "    <tr>\n",
              "      <th>50%</th>\n",
              "      <td>75.500000</td>\n",
              "      <td>5.800000</td>\n",
              "      <td>3.000000</td>\n",
              "      <td>4.350000</td>\n",
              "      <td>1.300000</td>\n",
              "    </tr>\n",
              "    <tr>\n",
              "      <th>75%</th>\n",
              "      <td>112.750000</td>\n",
              "      <td>6.400000</td>\n",
              "      <td>3.300000</td>\n",
              "      <td>5.100000</td>\n",
              "      <td>1.800000</td>\n",
              "    </tr>\n",
              "    <tr>\n",
              "      <th>max</th>\n",
              "      <td>150.000000</td>\n",
              "      <td>7.900000</td>\n",
              "      <td>4.400000</td>\n",
              "      <td>6.900000</td>\n",
              "      <td>2.500000</td>\n",
              "    </tr>\n",
              "  </tbody>\n",
              "</table>\n",
              "</div>"
            ],
            "text/plain": [
              "               Id  SepalLengthCm  SepalWidthCm  PetalLengthCm  PetalWidthCm\n",
              "count  150.000000     150.000000    150.000000     150.000000    150.000000\n",
              "mean    75.500000       5.843333      3.054000       3.758667      1.198667\n",
              "std     43.445368       0.828066      0.433594       1.764420      0.763161\n",
              "min      1.000000       4.300000      2.000000       1.000000      0.100000\n",
              "25%     38.250000       5.100000      2.800000       1.600000      0.300000\n",
              "50%     75.500000       5.800000      3.000000       4.350000      1.300000\n",
              "75%    112.750000       6.400000      3.300000       5.100000      1.800000\n",
              "max    150.000000       7.900000      4.400000       6.900000      2.500000"
            ]
          },
          "metadata": {
            "tags": []
          },
          "execution_count": 7
        }
      ]
    },
    {
      "cell_type": "code",
      "metadata": {
        "_uuid": "aec4e9a244b230b77c413ac8031a7fdefebe2f16",
        "id": "VcihouaCDWf8",
        "colab_type": "code",
        "colab": {
          "base_uri": "https://localhost:8080/",
          "height": 101
        },
        "outputId": "a1b49380-ecb6-4cb2-8bf8-b51e2958d59c"
      },
      "source": [
        "# Let’s now take a look at the number of instances (rows) that belong to each class. We can view this as an absolute count.\n",
        "iris.groupby('Species').size()"
      ],
      "execution_count": null,
      "outputs": [
        {
          "output_type": "execute_result",
          "data": {
            "text/plain": [
              "Species\n",
              "Iris-setosa        50\n",
              "Iris-versicolor    50\n",
              "Iris-virginica     50\n",
              "dtype: int64"
            ]
          },
          "metadata": {
            "tags": []
          },
          "execution_count": 8
        }
      ]
    },
    {
      "cell_type": "markdown",
      "metadata": {
        "_uuid": "533fca59931ad92a78b2f69c9fe4bcaff0e762e3",
        "id": "HSb9RUK2DWgA",
        "colab_type": "text"
      },
      "source": [
        "### 9.2 Dividing data into features and labels"
      ]
    },
    {
      "cell_type": "markdown",
      "metadata": {
        "_uuid": "55bc81596034b6c004424ae7d74110c501388ca7",
        "id": "MeiMrlU-DWgA",
        "colab_type": "text"
      },
      "source": [
        "NOTE: As we can see iris contain six columns: Id, SepalLengthCm, SepalWidthCm, PetalLengthCm, PetalWidthCm and Species. The actual features are described by columns 1-4. Last column contains labels of samples. Firstly we need to split data into two arrays: X (features) and y (labels)."
      ]
    },
    {
      "cell_type": "code",
      "metadata": {
        "_uuid": "7bae05b7ba2910b37b12032a3eb55e1e2b97ab56",
        "id": "ZhBJb4jODWgB",
        "colab_type": "code",
        "colab": {}
      },
      "source": [
        "feature_columns = ['SepalLengthCm', 'SepalWidthCm', 'PetalLengthCm','PetalWidthCm']\n",
        "X = iris[feature_columns].values\n",
        "y = iris['Species'].values\n",
        "\n",
        "# Alternative way of selecting features and labels arrays:\n",
        "# X = iris.iloc[:, 1:5].values\n",
        "# y = iris.iloc[:, 5].values"
      ],
      "execution_count": null,
      "outputs": []
    },
    {
      "cell_type": "markdown",
      "metadata": {
        "_uuid": "3fa0e68a0f5cc6f0e6bb44dbbb52ec7c7d6d24d3",
        "id": "erTPJ0rkDWgC",
        "colab_type": "text"
      },
      "source": [
        "### 9.3 Label encoding"
      ]
    },
    {
      "cell_type": "markdown",
      "metadata": {
        "_uuid": "a1665ed8f94c0688d3f6642800ca633ec3b44fd3",
        "id": "mrsJDF9CDWgD",
        "colab_type": "text"
      },
      "source": [
        "NOTE: As we can see labels are categorical. KNeighborsClassifier does not accept string labels. We need to use LabelEncoder to transform them into numbers. Iris-setosa correspond to 0, Iris-versicolor correspond to 1 and Iris-virginica correspond to 2."
      ]
    },
    {
      "cell_type": "code",
      "metadata": {
        "_uuid": "f52819ab1b0450afdc7506810709a4439929eb31",
        "id": "NO_jXMsZDWgD",
        "colab_type": "code",
        "colab": {}
      },
      "source": [
        "from sklearn.preprocessing import LabelEncoder\n",
        "le = LabelEncoder()\n",
        "y = le.fit_transform(y)"
      ],
      "execution_count": null,
      "outputs": []
    },
    {
      "cell_type": "markdown",
      "metadata": {
        "_uuid": "462de16da2933052bd4654569f2df86b60cf829c",
        "id": "2aGdDx2CDWgF",
        "colab_type": "text"
      },
      "source": [
        "### 9.4 Spliting iris into training set and test set"
      ]
    },
    {
      "cell_type": "markdown",
      "metadata": {
        "_uuid": "acb56892ba55ea8a9ba18c35df5150f8049cb2b4",
        "collapsed": true,
        "id": "v4g66VuIDWgF",
        "colab_type": "text"
      },
      "source": [
        "Let's split iris into training set and test set, to check later on whether or not our regressor works correctly."
      ]
    },
    {
      "cell_type": "code",
      "metadata": {
        "_uuid": "fcf033a86f327c3b74f12267ffec316d78e9bd83",
        "id": "frGBnSPcDWgF",
        "colab_type": "code",
        "colab": {}
      },
      "source": [
        "from sklearn.model_selection import train_test_split\n",
        "X_train, X_test, y_train, y_test = train_test_split(X, y, test_size = 0.2, random_state = 0)"
      ],
      "execution_count": null,
      "outputs": []
    },
    {
      "cell_type": "markdown",
      "metadata": {
        "_uuid": "998a84b3a20e0749f832c569e56f224966f1b4ea",
        "id": "uuvIuDvzDWgI",
        "colab_type": "text"
      },
      "source": [
        "Lastly, because features values are in the same order of magnitude, there is no need for feature scaling. Nevertheless in other circumstances it is extremly important to apply feature scaling before running classification algorythms."
      ]
    },
    {
      "cell_type": "markdown",
      "metadata": {
        "_uuid": "93964c8f0dfb4c90811e199f35c304e0e92a7926",
        "id": "NNlOauRSDWgI",
        "colab_type": "text"
      },
      "source": [
        "### 9.4 Data Visualization"
      ]
    },
    {
      "cell_type": "code",
      "metadata": {
        "_uuid": "24b7159661e76ff197aa929874147dd19d180ce8",
        "id": "a0nqV6nxDWgI",
        "colab_type": "code",
        "colab": {}
      },
      "source": [
        "import matplotlib.pyplot as plt\n",
        "import seaborn as sns\n",
        "%matplotlib inline"
      ],
      "execution_count": null,
      "outputs": []
    },
    {
      "cell_type": "markdown",
      "metadata": {
        "_uuid": "3f2520537e712318511ddcc3458dbd942aea2a13",
        "id": "4LxSi2RdDWgK",
        "colab_type": "text"
      },
      "source": [
        "#### 9.4.1 Pairplot"
      ]
    },
    {
      "cell_type": "markdown",
      "metadata": {
        "_uuid": "7b3a40d33223c2ddd45a8e39f6fc681ec8020e14",
        "id": "frfTH6X3DWgK",
        "colab_type": "text"
      },
      "source": [
        "Pairwise is useful when you want to visualize the distribution of a variable or the relationship between multiple variables separately within subsets of your iris."
      ]
    },
    {
      "cell_type": "code",
      "metadata": {
        "_uuid": "e3d585f847b4f5ccab104e8b041f464450c0c3f9",
        "id": "RwJiJfIyDWgK",
        "colab_type": "code",
        "colab": {
          "base_uri": "https://localhost:8080/",
          "height": 923
        },
        "outputId": "0e2ae56b-ad00-4eff-bd7e-2c31e054b3e2"
      },
      "source": [
        "plt.figure()\n",
        "sns.pairplot(iris.drop(\"Id\", axis=1), hue = \"Species\", size=3, markers=[\"o\", \"s\", \"D\"])\n",
        "plt.show()"
      ],
      "execution_count": null,
      "outputs": [
        {
          "output_type": "stream",
          "text": [
            "/usr/local/lib/python3.6/dist-packages/seaborn/axisgrid.py:2065: UserWarning: The `size` parameter has been renamed to `height`; pleaes update your code.\n",
            "  warnings.warn(msg, UserWarning)\n"
          ],
          "name": "stderr"
        },
        {
          "output_type": "display_data",
          "data": {
            "text/plain": [
              "<Figure size 432x288 with 0 Axes>"
            ]
          },
          "metadata": {
            "tags": []
          }
        },
        {
          "output_type": "display_data",
          "data": {
            "image/png": "[encoded data removed]",
            "text/plain": [
              "<Figure size 967.5x864 with 20 Axes>"
            ]
          },
          "metadata": {
            "tags": []
          }
        }
      ]
    },
    {
      "cell_type": "markdown",
      "metadata": {
        "_uuid": "cf7fb5bc89aec4abf9cbf3239658b5ce747f662b",
        "id": "Nid9iusCDWgN",
        "colab_type": "text"
      },
      "source": [
        "#### 9.4.2. 3D visualization"
      ]
    },
    {
      "cell_type": "markdown",
      "metadata": {
        "_uuid": "5b57bb66c8daa7f1e272fb89740c70018ed4d208",
        "id": "RQyjFKAxDWgO",
        "colab_type": "text"
      },
      "source": [
        "You can also try to  visualize high-dimensional iriss in 3D using color, shape, size and other properties of 3D and 2D objects. In this plot I used marks sizes to visualize fourth dimenssion which is Petal Width [cm]."
      ]
    },
    {
      "cell_type": "code",
      "metadata": {
        "_uuid": "dd50883c1d3f57056cef311861e5566ea7ffb069",
        "id": "99iEXu72DWgP",
        "colab_type": "code",
        "colab": {
          "base_uri": "https://localhost:8080/",
          "height": 1000
        },
        "outputId": "cad94aa7-bfaf-4251-afa9-26f0e72157c1"
      },
      "source": [
        "from mpl_toolkits.mplot3d import Axes3D\n",
        "fig = plt.figure(1, figsize=(20, 15))\n",
        "ax = Axes3D(fig, elev=48, azim=134)\n",
        "ax.scatter(X[:, 0], X[:, 1], X[:, 2], c=y,\n",
        "           cmap=plt.cm.Set1, edgecolor='k', s = X[:, 3]*50)\n",
        "\n",
        "for name, label in [('Virginica', 0), ('Setosa', 1), ('Versicolour', 2)]:\n",
        "    ax.text3D(X[y == label, 0].mean(),\n",
        "              X[y == label, 1].mean(),\n",
        "              X[y == label, 2].mean(), name,\n",
        "              horizontalalignment='center',\n",
        "              bbox=dict(alpha=.5, edgecolor='w', facecolor='w'),size=25)\n",
        "\n",
        "ax.set_title(\"3D visualization\", fontsize=40)\n",
        "ax.set_xlabel(\"Sepal Length [cm]\", fontsize=25)\n",
        "ax.w_xaxis.set_ticklabels([])\n",
        "ax.set_ylabel(\"Sepal Width [cm]\", fontsize=25)\n",
        "ax.w_yaxis.set_ticklabels([])\n",
        "ax.set_zlabel(\"Petal Length [cm]\", fontsize=25)\n",
        "ax.w_zaxis.set_ticklabels([])\n",
        "\n",
        "plt.show()"
      ],
      "execution_count": null,
      "outputs": [
        {
          "output_type": "display_data",
          "data": {
            "image/png": "[encoded data removed]",
            "text/plain": [
              "<Figure size 1440x1080 with 1 Axes>"
            ]
          },
          "metadata": {
            "tags": []
          }
        }
      ]
    },
    {
      "cell_type": "markdown",
      "metadata": {
        "_uuid": "a68d8d34a661e568c7b9a9f826eefd6f6b05711c",
        "id": "B4OSQ2uvDWgQ",
        "colab_type": "text"
      },
      "source": [
        "### 9.5. Using KNN for regression"
      ]
    },
    {
      "cell_type": "markdown",
      "metadata": {
        "_uuid": "35bd390c4c451704b92049d09b622fad422a6be5",
        "id": "NsetptDLDWgR",
        "colab_type": "text"
      },
      "source": [
        "#### 9.5.1 Making predictions"
      ]
    },
    {
      "cell_type": "code",
      "metadata": {
        "_uuid": "9e645ea7be4300e26dcc9826fc96d06fdc06ba76",
        "id": "N6Jo4K2LDWgR",
        "colab_type": "code",
        "colab": {}
      },
      "source": [
        "# Fitting clasifier to the Training set\n",
        "# Loading libraries\n",
        "from sklearn.neighbors import KNeighborsRegressor\n",
        "from sklearn.model_selection import cross_val_score\n",
        "\n",
        "# Instantiate learning model (k = 3)\n",
        "regressor = KNeighborsRegressor(n_neighbors=3)\n",
        "\n",
        "# Fitting the model\n",
        "regressor.fit(X_train, y_train)\n",
        "\n",
        "# Predicting the Test set results\n",
        "y_pred = regressor.predict(X_test)"
      ],
      "execution_count": null,
      "outputs": []
    },
    {
      "cell_type": "markdown",
      "metadata": {
        "_uuid": "c8022e3cbce9cd4e73e0b47c51cacc32869413e5",
        "id": "GnAgxEBWDWgT",
        "colab_type": "text"
      },
      "source": [
        "#### 9.5.2. Evaluating predictions"
      ]
    },
    {
      "cell_type": "code",
      "metadata": {
        "_uuid": "1ade4a361991e0cab6b49fdd45274446eecfcb9a",
        "id": "WdcN9sNGDWgV",
        "colab_type": "code",
        "colab": {
          "base_uri": "https://localhost:8080/",
          "height": 34
        },
        "outputId": "91badb9d-1bc2-4c53-d204-d69f6cb243a7"
      },
      "source": [
        "from sklearn.metrics import mean_squared_error\n",
        "cm = mean_squared_error(y_test, y_pred)\n",
        "cm"
      ],
      "execution_count": null,
      "outputs": [
        {
          "output_type": "execute_result",
          "data": {
            "text/plain": [
              "0.01851851851851852"
            ]
          },
          "metadata": {
            "tags": []
          },
          "execution_count": 17
        }
      ]
    },
    {
      "cell_type": "code",
      "metadata": {
        "id": "UQpQrLVXDWgX",
        "colab_type": "code",
        "colab": {
          "base_uri": "https://localhost:8080/",
          "height": 34
        },
        "outputId": "62355755-c78b-4ad6-c76a-e78656e9e8ec"
      },
      "source": [
        "from sklearn.metrics import mean_squared_error\n",
        "cm = np.sqrt(mean_squared_error(y_test, y_pred))\n",
        "cm"
      ],
      "execution_count": null,
      "outputs": [
        {
          "output_type": "execute_result",
          "data": {
            "text/plain": [
              "0.13608276348795434"
            ]
          },
          "metadata": {
            "tags": []
          },
          "execution_count": 18
        }
      ]
    },
    {
      "cell_type": "markdown",
      "metadata": {
        "_uuid": "535f67d1aa345a2642ba45a85f58ae73f3d26df8",
        "id": "72tUsQFCDWgZ",
        "colab_type": "text"
      },
      "source": [
        "#### 4.3. Using cross-validation for parameter tuning:"
      ]
    },
    {
      "cell_type": "code",
      "metadata": {
        "_uuid": "71622db89590c3c8bebad792e657f248b408a960",
        "id": "CO4ILwEhDWgZ",
        "colab_type": "code",
        "colab": {}
      },
      "source": [
        "# creating list of K for KNN\n",
        "k_list = list(range(1,50,2))\n",
        "# creating list of cv scores\n",
        "cv_scores = []\n",
        "\n",
        "# perform 10-fold cross validation\n",
        "for k in k_list:\n",
        "    knn = KNeighborsRegressor(n_neighbors=k)\n",
        "    scores = cross_val_score(knn, X_train, y_train, cv=10, scoring='neg_mean_squared_error')\n",
        "    cv_scores.append(scores.mean())"
      ],
      "execution_count": null,
      "outputs": []
    },
    {
      "cell_type": "code",
      "metadata": {
        "_uuid": "85a3427abefe8eeee590aa2c05686f4e27d46af5",
        "id": "3u15t1WDDWgb",
        "colab_type": "code",
        "colab": {
          "base_uri": "https://localhost:8080/",
          "height": 649
        },
        "outputId": "50709f58-204d-4ca0-a17a-8a1a7db3d2d2"
      },
      "source": [
        "# changing to misclassification error\n",
        "MSE = [1 - x for x in cv_scores]\n",
        "\n",
        "plt.figure()\n",
        "plt.figure(figsize=(15,10))\n",
        "plt.title('The optimal number of neighbors', fontsize=20, fontweight='bold')\n",
        "plt.xlabel('Number of Neighbors K', fontsize=15)\n",
        "plt.ylabel('Misclassification Error', fontsize=15)\n",
        "sns.set_style(\"whitegrid\")\n",
        "plt.plot(k_list, MSE)\n",
        "\n",
        "plt.show()"
      ],
      "execution_count": null,
      "outputs": [
        {
          "output_type": "display_data",
          "data": {
            "text/plain": [
              "<Figure size 432x288 with 0 Axes>"
            ]
          },
          "metadata": {
            "tags": []
          }
        },
        {
          "output_type": "display_data",
          "data": {
            "image/png": "[encoded data removed]",
            "text/plain": [
              "<Figure size 1080x720 with 1 Axes>"
            ]
          },
          "metadata": {
            "tags": []
          }
        }
      ]
    },
    {
      "cell_type": "code",
      "metadata": {
        "_uuid": "27322dbbcd27e44c70ec16be517a7bacdc524d0e",
        "id": "QDSppCedDWge",
        "colab_type": "code",
        "colab": {
          "base_uri": "https://localhost:8080/",
          "height": 34
        },
        "outputId": "4c224403-7510-4a03-fe56-d70d7f4b650c"
      },
      "source": [
        "# finding best k\n",
        "best_k = k_list[MSE.index(min(MSE))]\n",
        "print(\"The optimal number of neighbors is %d.\" % best_k)"
      ],
      "execution_count": null,
      "outputs": [
        {
          "output_type": "stream",
          "text": [
            "The optimal number of neighbors is 9.\n"
          ],
          "name": "stdout"
        }
      ]
    },
    {
      "cell_type": "code",
      "metadata": {
        "id": "51BZeLM2FgxK",
        "colab_type": "code",
        "colab": {}
      },
      "source": [
        ""
      ],
      "execution_count": null,
      "outputs": []
    }
  ]
}